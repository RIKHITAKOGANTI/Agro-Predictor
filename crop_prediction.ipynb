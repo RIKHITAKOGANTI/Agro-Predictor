{
  "nbformat": 4,
  "nbformat_minor": 0,
  "metadata": {
    "colab": {
      "provenance": [],
      "authorship_tag": "ABX9TyM1NpisKj67xevsP+r4KQDY",
      "include_colab_link": true
    },
    "kernelspec": {
      "name": "python3",
      "display_name": "Python 3"
    },
    "language_info": {
      "name": "python"
    }
  },
  "cells": [
    {
      "cell_type": "markdown",
      "metadata": {
        "id": "view-in-github",
        "colab_type": "text"
      },
      "source": [
        "<a href=\"https://colab.research.google.com/github/ArunPratapTomar/BigDataProject/blob/main/crop_prediction.ipynb\" target=\"_parent\"><img src=\"https://colab.research.google.com/assets/colab-badge.svg\" alt=\"Open In Colab\"/></a>"
      ]
    },
    {
      "cell_type": "code",
      "execution_count": null,
      "metadata": {
        "colab": {
          "base_uri": "https://localhost:8080/"
        },
        "id": "Qj9kr3-LR1-Y",
        "outputId": "4de0829d-deb3-4434-f6d0-aa1a3476d7bb"
      },
      "outputs": [
        {
          "output_type": "stream",
          "name": "stdout",
          "text": [
            "Looking in indexes: https://pypi.org/simple, https://us-python.pkg.dev/colab-wheels/public/simple/\n",
            "Collecting pyspark\n",
            "  Downloading pyspark-3.4.0.tar.gz (310.8 MB)\n",
            "\u001b[2K     \u001b[90m━━━━━━━━━━━━━━━━━━━━━━━━━━━━━━━━━━━━━━━\u001b[0m \u001b[32m310.8/310.8 MB\u001b[0m \u001b[31m2.0 MB/s\u001b[0m eta \u001b[36m0:00:00\u001b[0m\n",
            "\u001b[?25h  Preparing metadata (setup.py) ... \u001b[?25l\u001b[?25hdone\n",
            "Requirement already satisfied: py4j==0.10.9.7 in /usr/local/lib/python3.10/dist-packages (from pyspark) (0.10.9.7)\n",
            "Building wheels for collected packages: pyspark\n",
            "  Building wheel for pyspark (setup.py) ... \u001b[?25l\u001b[?25hdone\n",
            "  Created wheel for pyspark: filename=pyspark-3.4.0-py2.py3-none-any.whl size=311317145 sha256=7e864195ba814aa143bdcf44b98027b7fbf344cd8310abf42240dd68fe239a44\n",
            "  Stored in directory: /root/.cache/pip/wheels/7b/1b/4b/3363a1d04368e7ff0d408e57ff57966fcdf00583774e761327\n",
            "Successfully built pyspark\n",
            "Installing collected packages: pyspark\n",
            "Successfully installed pyspark-3.4.0\n"
          ]
        }
      ],
      "source": [
        "! pip install pyspark"
      ]
    },
    {
      "cell_type": "code",
      "source": [
        "from pyspark.sql import SparkSession"
      ],
      "metadata": {
        "id": "Bu6EJYyjSMWu"
      },
      "execution_count": null,
      "outputs": []
    },
    {
      "cell_type": "code",
      "source": [
        "from google.colab import files\n",
        "uploaded = files.upload()"
      ],
      "metadata": {
        "colab": {
          "base_uri": "https://localhost:8080/",
          "height": 73
        },
        "id": "3wc3BwYrSk_d",
        "outputId": "44bc4ba8-8836-4523-97b5-7aaa04ec13b6"
      },
      "execution_count": null,
      "outputs": [
        {
          "output_type": "display_data",
          "data": {
            "text/plain": [
              "<IPython.core.display.HTML object>"
            ],
            "text/html": [
              "\n",
              "     <input type=\"file\" id=\"files-3e9eb595-c832-4510-b17c-1316124ee059\" name=\"files[]\" multiple disabled\n",
              "        style=\"border:none\" />\n",
              "     <output id=\"result-3e9eb595-c832-4510-b17c-1316124ee059\">\n",
              "      Upload widget is only available when the cell has been executed in the\n",
              "      current browser session. Please rerun this cell to enable.\n",
              "      </output>\n",
              "      <script>// Copyright 2017 Google LLC\n",
              "//\n",
              "// Licensed under the Apache License, Version 2.0 (the \"License\");\n",
              "// you may not use this file except in compliance with the License.\n",
              "// You may obtain a copy of the License at\n",
              "//\n",
              "//      http://www.apache.org/licenses/LICENSE-2.0\n",
              "//\n",
              "// Unless required by applicable law or agreed to in writing, software\n",
              "// distributed under the License is distributed on an \"AS IS\" BASIS,\n",
              "// WITHOUT WARRANTIES OR CONDITIONS OF ANY KIND, either express or implied.\n",
              "// See the License for the specific language governing permissions and\n",
              "// limitations under the License.\n",
              "\n",
              "/**\n",
              " * @fileoverview Helpers for google.colab Python module.\n",
              " */\n",
              "(function(scope) {\n",
              "function span(text, styleAttributes = {}) {\n",
              "  const element = document.createElement('span');\n",
              "  element.textContent = text;\n",
              "  for (const key of Object.keys(styleAttributes)) {\n",
              "    element.style[key] = styleAttributes[key];\n",
              "  }\n",
              "  return element;\n",
              "}\n",
              "\n",
              "// Max number of bytes which will be uploaded at a time.\n",
              "const MAX_PAYLOAD_SIZE = 100 * 1024;\n",
              "\n",
              "function _uploadFiles(inputId, outputId) {\n",
              "  const steps = uploadFilesStep(inputId, outputId);\n",
              "  const outputElement = document.getElementById(outputId);\n",
              "  // Cache steps on the outputElement to make it available for the next call\n",
              "  // to uploadFilesContinue from Python.\n",
              "  outputElement.steps = steps;\n",
              "\n",
              "  return _uploadFilesContinue(outputId);\n",
              "}\n",
              "\n",
              "// This is roughly an async generator (not supported in the browser yet),\n",
              "// where there are multiple asynchronous steps and the Python side is going\n",
              "// to poll for completion of each step.\n",
              "// This uses a Promise to block the python side on completion of each step,\n",
              "// then passes the result of the previous step as the input to the next step.\n",
              "function _uploadFilesContinue(outputId) {\n",
              "  const outputElement = document.getElementById(outputId);\n",
              "  const steps = outputElement.steps;\n",
              "\n",
              "  const next = steps.next(outputElement.lastPromiseValue);\n",
              "  return Promise.resolve(next.value.promise).then((value) => {\n",
              "    // Cache the last promise value to make it available to the next\n",
              "    // step of the generator.\n",
              "    outputElement.lastPromiseValue = value;\n",
              "    return next.value.response;\n",
              "  });\n",
              "}\n",
              "\n",
              "/**\n",
              " * Generator function which is called between each async step of the upload\n",
              " * process.\n",
              " * @param {string} inputId Element ID of the input file picker element.\n",
              " * @param {string} outputId Element ID of the output display.\n",
              " * @return {!Iterable<!Object>} Iterable of next steps.\n",
              " */\n",
              "function* uploadFilesStep(inputId, outputId) {\n",
              "  const inputElement = document.getElementById(inputId);\n",
              "  inputElement.disabled = false;\n",
              "\n",
              "  const outputElement = document.getElementById(outputId);\n",
              "  outputElement.innerHTML = '';\n",
              "\n",
              "  const pickedPromise = new Promise((resolve) => {\n",
              "    inputElement.addEventListener('change', (e) => {\n",
              "      resolve(e.target.files);\n",
              "    });\n",
              "  });\n",
              "\n",
              "  const cancel = document.createElement('button');\n",
              "  inputElement.parentElement.appendChild(cancel);\n",
              "  cancel.textContent = 'Cancel upload';\n",
              "  const cancelPromise = new Promise((resolve) => {\n",
              "    cancel.onclick = () => {\n",
              "      resolve(null);\n",
              "    };\n",
              "  });\n",
              "\n",
              "  // Wait for the user to pick the files.\n",
              "  const files = yield {\n",
              "    promise: Promise.race([pickedPromise, cancelPromise]),\n",
              "    response: {\n",
              "      action: 'starting',\n",
              "    }\n",
              "  };\n",
              "\n",
              "  cancel.remove();\n",
              "\n",
              "  // Disable the input element since further picks are not allowed.\n",
              "  inputElement.disabled = true;\n",
              "\n",
              "  if (!files) {\n",
              "    return {\n",
              "      response: {\n",
              "        action: 'complete',\n",
              "      }\n",
              "    };\n",
              "  }\n",
              "\n",
              "  for (const file of files) {\n",
              "    const li = document.createElement('li');\n",
              "    li.append(span(file.name, {fontWeight: 'bold'}));\n",
              "    li.append(span(\n",
              "        `(${file.type || 'n/a'}) - ${file.size} bytes, ` +\n",
              "        `last modified: ${\n",
              "            file.lastModifiedDate ? file.lastModifiedDate.toLocaleDateString() :\n",
              "                                    'n/a'} - `));\n",
              "    const percent = span('0% done');\n",
              "    li.appendChild(percent);\n",
              "\n",
              "    outputElement.appendChild(li);\n",
              "\n",
              "    const fileDataPromise = new Promise((resolve) => {\n",
              "      const reader = new FileReader();\n",
              "      reader.onload = (e) => {\n",
              "        resolve(e.target.result);\n",
              "      };\n",
              "      reader.readAsArrayBuffer(file);\n",
              "    });\n",
              "    // Wait for the data to be ready.\n",
              "    let fileData = yield {\n",
              "      promise: fileDataPromise,\n",
              "      response: {\n",
              "        action: 'continue',\n",
              "      }\n",
              "    };\n",
              "\n",
              "    // Use a chunked sending to avoid message size limits. See b/62115660.\n",
              "    let position = 0;\n",
              "    do {\n",
              "      const length = Math.min(fileData.byteLength - position, MAX_PAYLOAD_SIZE);\n",
              "      const chunk = new Uint8Array(fileData, position, length);\n",
              "      position += length;\n",
              "\n",
              "      const base64 = btoa(String.fromCharCode.apply(null, chunk));\n",
              "      yield {\n",
              "        response: {\n",
              "          action: 'append',\n",
              "          file: file.name,\n",
              "          data: base64,\n",
              "        },\n",
              "      };\n",
              "\n",
              "      let percentDone = fileData.byteLength === 0 ?\n",
              "          100 :\n",
              "          Math.round((position / fileData.byteLength) * 100);\n",
              "      percent.textContent = `${percentDone}% done`;\n",
              "\n",
              "    } while (position < fileData.byteLength);\n",
              "  }\n",
              "\n",
              "  // All done.\n",
              "  yield {\n",
              "    response: {\n",
              "      action: 'complete',\n",
              "    }\n",
              "  };\n",
              "}\n",
              "\n",
              "scope.google = scope.google || {};\n",
              "scope.google.colab = scope.google.colab || {};\n",
              "scope.google.colab._files = {\n",
              "  _uploadFiles,\n",
              "  _uploadFilesContinue,\n",
              "};\n",
              "})(self);\n",
              "</script> "
            ]
          },
          "metadata": {}
        },
        {
          "output_type": "stream",
          "name": "stdout",
          "text": [
            "Saving crop.csv to crop.csv\n"
          ]
        }
      ]
    },
    {
      "cell_type": "code",
      "source": [
        "from google.colab import files\n",
        "uploaded = files.upload()"
      ],
      "metadata": {
        "colab": {
          "base_uri": "https://localhost:8080/",
          "height": 73
        },
        "id": "6UmPOxVZSoh3",
        "outputId": "561fc137-c572-4b20-d1f4-94b03a14f353"
      },
      "execution_count": null,
      "outputs": [
        {
          "output_type": "display_data",
          "data": {
            "text/plain": [
              "<IPython.core.display.HTML object>"
            ],
            "text/html": [
              "\n",
              "     <input type=\"file\" id=\"files-699deb2e-9c56-4a07-b807-34d70df2f558\" name=\"files[]\" multiple disabled\n",
              "        style=\"border:none\" />\n",
              "     <output id=\"result-699deb2e-9c56-4a07-b807-34d70df2f558\">\n",
              "      Upload widget is only available when the cell has been executed in the\n",
              "      current browser session. Please rerun this cell to enable.\n",
              "      </output>\n",
              "      <script>// Copyright 2017 Google LLC\n",
              "//\n",
              "// Licensed under the Apache License, Version 2.0 (the \"License\");\n",
              "// you may not use this file except in compliance with the License.\n",
              "// You may obtain a copy of the License at\n",
              "//\n",
              "//      http://www.apache.org/licenses/LICENSE-2.0\n",
              "//\n",
              "// Unless required by applicable law or agreed to in writing, software\n",
              "// distributed under the License is distributed on an \"AS IS\" BASIS,\n",
              "// WITHOUT WARRANTIES OR CONDITIONS OF ANY KIND, either express or implied.\n",
              "// See the License for the specific language governing permissions and\n",
              "// limitations under the License.\n",
              "\n",
              "/**\n",
              " * @fileoverview Helpers for google.colab Python module.\n",
              " */\n",
              "(function(scope) {\n",
              "function span(text, styleAttributes = {}) {\n",
              "  const element = document.createElement('span');\n",
              "  element.textContent = text;\n",
              "  for (const key of Object.keys(styleAttributes)) {\n",
              "    element.style[key] = styleAttributes[key];\n",
              "  }\n",
              "  return element;\n",
              "}\n",
              "\n",
              "// Max number of bytes which will be uploaded at a time.\n",
              "const MAX_PAYLOAD_SIZE = 100 * 1024;\n",
              "\n",
              "function _uploadFiles(inputId, outputId) {\n",
              "  const steps = uploadFilesStep(inputId, outputId);\n",
              "  const outputElement = document.getElementById(outputId);\n",
              "  // Cache steps on the outputElement to make it available for the next call\n",
              "  // to uploadFilesContinue from Python.\n",
              "  outputElement.steps = steps;\n",
              "\n",
              "  return _uploadFilesContinue(outputId);\n",
              "}\n",
              "\n",
              "// This is roughly an async generator (not supported in the browser yet),\n",
              "// where there are multiple asynchronous steps and the Python side is going\n",
              "// to poll for completion of each step.\n",
              "// This uses a Promise to block the python side on completion of each step,\n",
              "// then passes the result of the previous step as the input to the next step.\n",
              "function _uploadFilesContinue(outputId) {\n",
              "  const outputElement = document.getElementById(outputId);\n",
              "  const steps = outputElement.steps;\n",
              "\n",
              "  const next = steps.next(outputElement.lastPromiseValue);\n",
              "  return Promise.resolve(next.value.promise).then((value) => {\n",
              "    // Cache the last promise value to make it available to the next\n",
              "    // step of the generator.\n",
              "    outputElement.lastPromiseValue = value;\n",
              "    return next.value.response;\n",
              "  });\n",
              "}\n",
              "\n",
              "/**\n",
              " * Generator function which is called between each async step of the upload\n",
              " * process.\n",
              " * @param {string} inputId Element ID of the input file picker element.\n",
              " * @param {string} outputId Element ID of the output display.\n",
              " * @return {!Iterable<!Object>} Iterable of next steps.\n",
              " */\n",
              "function* uploadFilesStep(inputId, outputId) {\n",
              "  const inputElement = document.getElementById(inputId);\n",
              "  inputElement.disabled = false;\n",
              "\n",
              "  const outputElement = document.getElementById(outputId);\n",
              "  outputElement.innerHTML = '';\n",
              "\n",
              "  const pickedPromise = new Promise((resolve) => {\n",
              "    inputElement.addEventListener('change', (e) => {\n",
              "      resolve(e.target.files);\n",
              "    });\n",
              "  });\n",
              "\n",
              "  const cancel = document.createElement('button');\n",
              "  inputElement.parentElement.appendChild(cancel);\n",
              "  cancel.textContent = 'Cancel upload';\n",
              "  const cancelPromise = new Promise((resolve) => {\n",
              "    cancel.onclick = () => {\n",
              "      resolve(null);\n",
              "    };\n",
              "  });\n",
              "\n",
              "  // Wait for the user to pick the files.\n",
              "  const files = yield {\n",
              "    promise: Promise.race([pickedPromise, cancelPromise]),\n",
              "    response: {\n",
              "      action: 'starting',\n",
              "    }\n",
              "  };\n",
              "\n",
              "  cancel.remove();\n",
              "\n",
              "  // Disable the input element since further picks are not allowed.\n",
              "  inputElement.disabled = true;\n",
              "\n",
              "  if (!files) {\n",
              "    return {\n",
              "      response: {\n",
              "        action: 'complete',\n",
              "      }\n",
              "    };\n",
              "  }\n",
              "\n",
              "  for (const file of files) {\n",
              "    const li = document.createElement('li');\n",
              "    li.append(span(file.name, {fontWeight: 'bold'}));\n",
              "    li.append(span(\n",
              "        `(${file.type || 'n/a'}) - ${file.size} bytes, ` +\n",
              "        `last modified: ${\n",
              "            file.lastModifiedDate ? file.lastModifiedDate.toLocaleDateString() :\n",
              "                                    'n/a'} - `));\n",
              "    const percent = span('0% done');\n",
              "    li.appendChild(percent);\n",
              "\n",
              "    outputElement.appendChild(li);\n",
              "\n",
              "    const fileDataPromise = new Promise((resolve) => {\n",
              "      const reader = new FileReader();\n",
              "      reader.onload = (e) => {\n",
              "        resolve(e.target.result);\n",
              "      };\n",
              "      reader.readAsArrayBuffer(file);\n",
              "    });\n",
              "    // Wait for the data to be ready.\n",
              "    let fileData = yield {\n",
              "      promise: fileDataPromise,\n",
              "      response: {\n",
              "        action: 'continue',\n",
              "      }\n",
              "    };\n",
              "\n",
              "    // Use a chunked sending to avoid message size limits. See b/62115660.\n",
              "    let position = 0;\n",
              "    do {\n",
              "      const length = Math.min(fileData.byteLength - position, MAX_PAYLOAD_SIZE);\n",
              "      const chunk = new Uint8Array(fileData, position, length);\n",
              "      position += length;\n",
              "\n",
              "      const base64 = btoa(String.fromCharCode.apply(null, chunk));\n",
              "      yield {\n",
              "        response: {\n",
              "          action: 'append',\n",
              "          file: file.name,\n",
              "          data: base64,\n",
              "        },\n",
              "      };\n",
              "\n",
              "      let percentDone = fileData.byteLength === 0 ?\n",
              "          100 :\n",
              "          Math.round((position / fileData.byteLength) * 100);\n",
              "      percent.textContent = `${percentDone}% done`;\n",
              "\n",
              "    } while (position < fileData.byteLength);\n",
              "  }\n",
              "\n",
              "  // All done.\n",
              "  yield {\n",
              "    response: {\n",
              "      action: 'complete',\n",
              "    }\n",
              "  };\n",
              "}\n",
              "\n",
              "scope.google = scope.google || {};\n",
              "scope.google.colab = scope.google.colab || {};\n",
              "scope.google.colab._files = {\n",
              "  _uploadFiles,\n",
              "  _uploadFilesContinue,\n",
              "};\n",
              "})(self);\n",
              "</script> "
            ]
          },
          "metadata": {}
        },
        {
          "output_type": "stream",
          "name": "stdout",
          "text": [
            "Saving rainfall in india 1901-2015.csv to rainfall in india 1901-2015.csv\n"
          ]
        }
      ]
    },
    {
      "cell_type": "code",
      "source": [
        "from google.colab import files\n",
        "uploaded = files.upload()"
      ],
      "metadata": {
        "colab": {
          "base_uri": "https://localhost:8080/",
          "height": 73
        },
        "id": "YLZ2JelpXvyC",
        "outputId": "ec8821c1-63a2-4a3d-c0d6-f7647abb6365"
      },
      "execution_count": null,
      "outputs": [
        {
          "output_type": "display_data",
          "data": {
            "text/plain": [
              "<IPython.core.display.HTML object>"
            ],
            "text/html": [
              "\n",
              "     <input type=\"file\" id=\"files-5c31f56b-b510-4180-bed7-9ac0208fd090\" name=\"files[]\" multiple disabled\n",
              "        style=\"border:none\" />\n",
              "     <output id=\"result-5c31f56b-b510-4180-bed7-9ac0208fd090\">\n",
              "      Upload widget is only available when the cell has been executed in the\n",
              "      current browser session. Please rerun this cell to enable.\n",
              "      </output>\n",
              "      <script>// Copyright 2017 Google LLC\n",
              "//\n",
              "// Licensed under the Apache License, Version 2.0 (the \"License\");\n",
              "// you may not use this file except in compliance with the License.\n",
              "// You may obtain a copy of the License at\n",
              "//\n",
              "//      http://www.apache.org/licenses/LICENSE-2.0\n",
              "//\n",
              "// Unless required by applicable law or agreed to in writing, software\n",
              "// distributed under the License is distributed on an \"AS IS\" BASIS,\n",
              "// WITHOUT WARRANTIES OR CONDITIONS OF ANY KIND, either express or implied.\n",
              "// See the License for the specific language governing permissions and\n",
              "// limitations under the License.\n",
              "\n",
              "/**\n",
              " * @fileoverview Helpers for google.colab Python module.\n",
              " */\n",
              "(function(scope) {\n",
              "function span(text, styleAttributes = {}) {\n",
              "  const element = document.createElement('span');\n",
              "  element.textContent = text;\n",
              "  for (const key of Object.keys(styleAttributes)) {\n",
              "    element.style[key] = styleAttributes[key];\n",
              "  }\n",
              "  return element;\n",
              "}\n",
              "\n",
              "// Max number of bytes which will be uploaded at a time.\n",
              "const MAX_PAYLOAD_SIZE = 100 * 1024;\n",
              "\n",
              "function _uploadFiles(inputId, outputId) {\n",
              "  const steps = uploadFilesStep(inputId, outputId);\n",
              "  const outputElement = document.getElementById(outputId);\n",
              "  // Cache steps on the outputElement to make it available for the next call\n",
              "  // to uploadFilesContinue from Python.\n",
              "  outputElement.steps = steps;\n",
              "\n",
              "  return _uploadFilesContinue(outputId);\n",
              "}\n",
              "\n",
              "// This is roughly an async generator (not supported in the browser yet),\n",
              "// where there are multiple asynchronous steps and the Python side is going\n",
              "// to poll for completion of each step.\n",
              "// This uses a Promise to block the python side on completion of each step,\n",
              "// then passes the result of the previous step as the input to the next step.\n",
              "function _uploadFilesContinue(outputId) {\n",
              "  const outputElement = document.getElementById(outputId);\n",
              "  const steps = outputElement.steps;\n",
              "\n",
              "  const next = steps.next(outputElement.lastPromiseValue);\n",
              "  return Promise.resolve(next.value.promise).then((value) => {\n",
              "    // Cache the last promise value to make it available to the next\n",
              "    // step of the generator.\n",
              "    outputElement.lastPromiseValue = value;\n",
              "    return next.value.response;\n",
              "  });\n",
              "}\n",
              "\n",
              "/**\n",
              " * Generator function which is called between each async step of the upload\n",
              " * process.\n",
              " * @param {string} inputId Element ID of the input file picker element.\n",
              " * @param {string} outputId Element ID of the output display.\n",
              " * @return {!Iterable<!Object>} Iterable of next steps.\n",
              " */\n",
              "function* uploadFilesStep(inputId, outputId) {\n",
              "  const inputElement = document.getElementById(inputId);\n",
              "  inputElement.disabled = false;\n",
              "\n",
              "  const outputElement = document.getElementById(outputId);\n",
              "  outputElement.innerHTML = '';\n",
              "\n",
              "  const pickedPromise = new Promise((resolve) => {\n",
              "    inputElement.addEventListener('change', (e) => {\n",
              "      resolve(e.target.files);\n",
              "    });\n",
              "  });\n",
              "\n",
              "  const cancel = document.createElement('button');\n",
              "  inputElement.parentElement.appendChild(cancel);\n",
              "  cancel.textContent = 'Cancel upload';\n",
              "  const cancelPromise = new Promise((resolve) => {\n",
              "    cancel.onclick = () => {\n",
              "      resolve(null);\n",
              "    };\n",
              "  });\n",
              "\n",
              "  // Wait for the user to pick the files.\n",
              "  const files = yield {\n",
              "    promise: Promise.race([pickedPromise, cancelPromise]),\n",
              "    response: {\n",
              "      action: 'starting',\n",
              "    }\n",
              "  };\n",
              "\n",
              "  cancel.remove();\n",
              "\n",
              "  // Disable the input element since further picks are not allowed.\n",
              "  inputElement.disabled = true;\n",
              "\n",
              "  if (!files) {\n",
              "    return {\n",
              "      response: {\n",
              "        action: 'complete',\n",
              "      }\n",
              "    };\n",
              "  }\n",
              "\n",
              "  for (const file of files) {\n",
              "    const li = document.createElement('li');\n",
              "    li.append(span(file.name, {fontWeight: 'bold'}));\n",
              "    li.append(span(\n",
              "        `(${file.type || 'n/a'}) - ${file.size} bytes, ` +\n",
              "        `last modified: ${\n",
              "            file.lastModifiedDate ? file.lastModifiedDate.toLocaleDateString() :\n",
              "                                    'n/a'} - `));\n",
              "    const percent = span('0% done');\n",
              "    li.appendChild(percent);\n",
              "\n",
              "    outputElement.appendChild(li);\n",
              "\n",
              "    const fileDataPromise = new Promise((resolve) => {\n",
              "      const reader = new FileReader();\n",
              "      reader.onload = (e) => {\n",
              "        resolve(e.target.result);\n",
              "      };\n",
              "      reader.readAsArrayBuffer(file);\n",
              "    });\n",
              "    // Wait for the data to be ready.\n",
              "    let fileData = yield {\n",
              "      promise: fileDataPromise,\n",
              "      response: {\n",
              "        action: 'continue',\n",
              "      }\n",
              "    };\n",
              "\n",
              "    // Use a chunked sending to avoid message size limits. See b/62115660.\n",
              "    let position = 0;\n",
              "    do {\n",
              "      const length = Math.min(fileData.byteLength - position, MAX_PAYLOAD_SIZE);\n",
              "      const chunk = new Uint8Array(fileData, position, length);\n",
              "      position += length;\n",
              "\n",
              "      const base64 = btoa(String.fromCharCode.apply(null, chunk));\n",
              "      yield {\n",
              "        response: {\n",
              "          action: 'append',\n",
              "          file: file.name,\n",
              "          data: base64,\n",
              "        },\n",
              "      };\n",
              "\n",
              "      let percentDone = fileData.byteLength === 0 ?\n",
              "          100 :\n",
              "          Math.round((position / fileData.byteLength) * 100);\n",
              "      percent.textContent = `${percentDone}% done`;\n",
              "\n",
              "    } while (position < fileData.byteLength);\n",
              "  }\n",
              "\n",
              "  // All done.\n",
              "  yield {\n",
              "    response: {\n",
              "      action: 'complete',\n",
              "    }\n",
              "  };\n",
              "}\n",
              "\n",
              "scope.google = scope.google || {};\n",
              "scope.google.colab = scope.google.colab || {};\n",
              "scope.google.colab._files = {\n",
              "  _uploadFiles,\n",
              "  _uploadFilesContinue,\n",
              "};\n",
              "})(self);\n",
              "</script> "
            ]
          },
          "metadata": {}
        },
        {
          "output_type": "stream",
          "name": "stdout",
          "text": [
            "Saving district wise rainfall normal.csv to district wise rainfall normal.csv\n"
          ]
        }
      ]
    },
    {
      "cell_type": "code",
      "source": [
        "spark = SparkSession.builder.appName(\"Load CSV into DataFrame\").master(\"local[*]\").getOrCreate()"
      ],
      "metadata": {
        "id": "GK329A5HX8ID"
      },
      "execution_count": null,
      "outputs": []
    },
    {
      "cell_type": "code",
      "source": [
        "df1 = spark.read.format(\"com.dtabricks.sparks.csv\").option(\"mode\",\"DROPMALFORMED\").option(\"header\", True).option(\"inferschema\",True).csv(\"crop.csv\")"
      ],
      "metadata": {
        "id": "vX6ACluRYNEk"
      },
      "execution_count": null,
      "outputs": []
    },
    {
      "cell_type": "code",
      "source": [
        "df1"
      ],
      "metadata": {
        "colab": {
          "base_uri": "https://localhost:8080/"
        },
        "id": "yx3w2NVsYdX1",
        "outputId": "a3fd2fda-6531-4605-d5d7-8f5eaaa40a5a"
      },
      "execution_count": null,
      "outputs": [
        {
          "output_type": "execute_result",
          "data": {
            "text/plain": [
              "DataFrame[State: string, District_Name: string, YEAR: int, Season: string, Crop: string, Area: double, Production: double]"
            ]
          },
          "metadata": {},
          "execution_count": 8
        }
      ]
    },
    {
      "cell_type": "code",
      "source": [
        "df1.show()"
      ],
      "metadata": {
        "colab": {
          "base_uri": "https://localhost:8080/"
        },
        "id": "oaiOMskwYhyP",
        "outputId": "a36e80fd-bbaf-4a9c-a373-b942df19c8cf"
      },
      "execution_count": null,
      "outputs": [
        {
          "output_type": "stream",
          "name": "stdout",
          "text": [
            "+--------------------+-------------+----+-----------+-------------------+-------+----------+\n",
            "|               State|District_Name|YEAR|     Season|               Crop|   Area|Production|\n",
            "+--------------------+-------------+----+-----------+-------------------+-------+----------+\n",
            "|Andaman and Nicob...|     NICOBARS|2000|Kharif     |           Arecanut| 1254.0|    2000.0|\n",
            "|Andaman and Nicob...|     NICOBARS|2000|Kharif     |Other Kharif pulses|    2.0|       1.0|\n",
            "|Andaman and Nicob...|     NICOBARS|2000|Kharif     |               Rice|  102.0|     321.0|\n",
            "|Andaman and Nicob...|     NICOBARS|2000|Whole Year |             Banana|  176.0|     641.0|\n",
            "|Andaman and Nicob...|     NICOBARS|2000|Whole Year |          Cashewnut|  720.0|     165.0|\n",
            "|Andaman and Nicob...|     NICOBARS|2000|Whole Year |           Coconut |18168.0|    6.51E7|\n",
            "|Andaman and Nicob...|     NICOBARS|2000|Whole Year |         Dry ginger|   36.0|     100.0|\n",
            "|Andaman and Nicob...|     NICOBARS|2000|Whole Year |          Sugarcane|    1.0|       2.0|\n",
            "|Andaman and Nicob...|     NICOBARS|2000|Whole Year |       Sweet potato|    5.0|      15.0|\n",
            "|Andaman and Nicob...|     NICOBARS|2000|Whole Year |            Tapioca|   40.0|     169.0|\n",
            "|Andaman and Nicob...|     NICOBARS|2001|Kharif     |           Arecanut| 1254.0|    2061.0|\n",
            "|Andaman and Nicob...|     NICOBARS|2001|Kharif     |Other Kharif pulses|    2.0|       1.0|\n",
            "|Andaman and Nicob...|     NICOBARS|2001|Kharif     |               Rice|   83.0|     300.0|\n",
            "|Andaman and Nicob...|     NICOBARS|2001|Whole Year |          Cashewnut|  719.0|     192.0|\n",
            "|Andaman and Nicob...|     NICOBARS|2001|Whole Year |           Coconut |18190.0|   6.443E7|\n",
            "|Andaman and Nicob...|     NICOBARS|2001|Whole Year |         Dry ginger|   46.0|     100.0|\n",
            "|Andaman and Nicob...|     NICOBARS|2001|Whole Year |          Sugarcane|    1.0|       1.0|\n",
            "|Andaman and Nicob...|     NICOBARS|2001|Whole Year |       Sweet potato|   11.0|      33.0|\n",
            "|Andaman and Nicob...|     NICOBARS|2002|Kharif     |               Rice|  189.2|    510.84|\n",
            "|Andaman and Nicob...|     NICOBARS|2002|Whole Year |           Arecanut| 1258.0|    2083.0|\n",
            "+--------------------+-------------+----+-----------+-------------------+-------+----------+\n",
            "only showing top 20 rows\n",
            "\n"
          ]
        }
      ]
    },
    {
      "cell_type": "code",
      "source": [
        "from pyspark.sql.functions import upper\n"
      ],
      "metadata": {
        "id": "cN9wiPZtYmI_"
      },
      "execution_count": null,
      "outputs": []
    },
    {
      "cell_type": "code",
      "source": [
        "df1 = df1.withColumn(\"State\", upper(df1[\"State\"]))"
      ],
      "metadata": {
        "id": "9KpSiC4pQ1gE"
      },
      "execution_count": null,
      "outputs": []
    },
    {
      "cell_type": "code",
      "source": [
        "df1.show()"
      ],
      "metadata": {
        "colab": {
          "base_uri": "https://localhost:8080/"
        },
        "id": "5nyTPm3ahb_u",
        "outputId": "8fedcde6-f4d9-45c6-d423-6a6a931aa2cc"
      },
      "execution_count": null,
      "outputs": [
        {
          "output_type": "stream",
          "name": "stdout",
          "text": [
            "+--------------------+-------------+----+-----------+-------------------+-------+----------+\n",
            "|               State|District_Name|YEAR|     Season|               Crop|   Area|Production|\n",
            "+--------------------+-------------+----+-----------+-------------------+-------+----------+\n",
            "|ANDAMAN AND NICOB...|     NICOBARS|2000|Kharif     |           Arecanut| 1254.0|    2000.0|\n",
            "|ANDAMAN AND NICOB...|     NICOBARS|2000|Kharif     |Other Kharif pulses|    2.0|       1.0|\n",
            "|ANDAMAN AND NICOB...|     NICOBARS|2000|Kharif     |               Rice|  102.0|     321.0|\n",
            "|ANDAMAN AND NICOB...|     NICOBARS|2000|Whole Year |             Banana|  176.0|     641.0|\n",
            "|ANDAMAN AND NICOB...|     NICOBARS|2000|Whole Year |          Cashewnut|  720.0|     165.0|\n",
            "|ANDAMAN AND NICOB...|     NICOBARS|2000|Whole Year |           Coconut |18168.0|    6.51E7|\n",
            "|ANDAMAN AND NICOB...|     NICOBARS|2000|Whole Year |         Dry ginger|   36.0|     100.0|\n",
            "|ANDAMAN AND NICOB...|     NICOBARS|2000|Whole Year |          Sugarcane|    1.0|       2.0|\n",
            "|ANDAMAN AND NICOB...|     NICOBARS|2000|Whole Year |       Sweet potato|    5.0|      15.0|\n",
            "|ANDAMAN AND NICOB...|     NICOBARS|2000|Whole Year |            Tapioca|   40.0|     169.0|\n",
            "|ANDAMAN AND NICOB...|     NICOBARS|2001|Kharif     |           Arecanut| 1254.0|    2061.0|\n",
            "|ANDAMAN AND NICOB...|     NICOBARS|2001|Kharif     |Other Kharif pulses|    2.0|       1.0|\n",
            "|ANDAMAN AND NICOB...|     NICOBARS|2001|Kharif     |               Rice|   83.0|     300.0|\n",
            "|ANDAMAN AND NICOB...|     NICOBARS|2001|Whole Year |          Cashewnut|  719.0|     192.0|\n",
            "|ANDAMAN AND NICOB...|     NICOBARS|2001|Whole Year |           Coconut |18190.0|   6.443E7|\n",
            "|ANDAMAN AND NICOB...|     NICOBARS|2001|Whole Year |         Dry ginger|   46.0|     100.0|\n",
            "|ANDAMAN AND NICOB...|     NICOBARS|2001|Whole Year |          Sugarcane|    1.0|       1.0|\n",
            "|ANDAMAN AND NICOB...|     NICOBARS|2001|Whole Year |       Sweet potato|   11.0|      33.0|\n",
            "|ANDAMAN AND NICOB...|     NICOBARS|2002|Kharif     |               Rice|  189.2|    510.84|\n",
            "|ANDAMAN AND NICOB...|     NICOBARS|2002|Whole Year |           Arecanut| 1258.0|    2083.0|\n",
            "+--------------------+-------------+----+-----------+-------------------+-------+----------+\n",
            "only showing top 20 rows\n",
            "\n"
          ]
        }
      ]
    },
    {
      "cell_type": "code",
      "source": [
        "df2 = spark.read.format(\"com.dtabricks.sparks.csv\").option(\"mode\",\"DROPMALFORMED\").option(\"header\", True).option(\"inferschema\",True).csv(\"rainfall in india 1901-2015.csv\")"
      ],
      "metadata": {
        "id": "pvgjaGd_CbWv"
      },
      "execution_count": null,
      "outputs": []
    },
    {
      "cell_type": "code",
      "source": [
        "df2.show()"
      ],
      "metadata": {
        "colab": {
          "base_uri": "https://localhost:8080/"
        },
        "id": "7mRYtm0gCwzK",
        "outputId": "3cac2319-38ba-4b79-af0e-19782450b0f8"
      },
      "execution_count": null,
      "outputs": [
        {
          "output_type": "stream",
          "name": "stdout",
          "text": [
            "+--------------------+----+------+------+------+------+------+------+------+------+------+------+------+------+-------+-------+-------+-------+-------+\n",
            "|         SUBDIVISION|YEAR|   JAN|   FEB|   MAR|   APR|   MAY|   JUN|   JUL|   AUG|   SEP|   OCT|   NOV|   DEC| ANNUAL|Jan-Feb|Mar-May|Jun-Sep|Oct-Dec|\n",
            "+--------------------+----+------+------+------+------+------+------+------+------+------+------+------+------+-------+-------+-------+-------+-------+\n",
            "|ANDAMAN & NICOBAR...|1901| 49.20| 87.10| 29.20|  2.30|528.80|517.50|365.10|481.10|332.60|388.50|558.20| 33.60|3373.20| 136.30| 560.30|1696.30| 980.30|\n",
            "|ANDAMAN & NICOBAR...|1902|  0.00|159.80| 12.20|  0.00|446.10|537.10|228.90|753.70|666.20|197.20|359.00|160.50|3520.70| 159.80| 458.30|2185.90| 716.70|\n",
            "|ANDAMAN & NICOBAR...|1903| 12.70|144.00|  0.00|  1.00|235.10|479.90|728.40|326.70|339.00|181.20|284.40|225.00|2957.40| 156.70| 236.10|1874.00| 690.60|\n",
            "|ANDAMAN & NICOBAR...|1904|  9.40| 14.70|  0.00|202.40|304.50|495.10|502.00|160.10|820.40|222.20|308.70| 40.10|3079.60|  24.10| 506.90|1977.60| 571.00|\n",
            "|ANDAMAN & NICOBAR...|1905|  1.30|  0.00|  3.30| 26.90|279.50|628.70|368.70|330.50|297.00|260.70| 25.40|344.70|2566.70|   1.30| 309.70|1624.90| 630.80|\n",
            "|ANDAMAN & NICOBAR...|1906| 36.60|  0.00|  0.00|  0.00|556.10|733.30|247.70|320.50|164.30|267.80|128.90| 79.20|2534.40|  36.60| 556.10|1465.80| 475.90|\n",
            "|ANDAMAN & NICOBAR...|1907|110.70|  0.00|113.30| 21.60|616.30|305.20|443.90|377.60|200.40|264.40|648.90|245.60|3347.90| 110.70| 751.20|1327.10|1158.90|\n",
            "|ANDAMAN & NICOBAR...|1908| 20.90| 85.10|  0.00| 29.00|562.00|693.60|481.40|699.90|428.80|170.70|208.10|196.90|3576.40| 106.00| 591.00|2303.70| 575.70|\n",
            "|ANDAMAN & NICOBAR...|1910| 26.60| 22.70|206.30| 89.30|224.50|472.70|264.30|337.40|626.60|208.20|267.30|153.50|2899.40|  49.30| 520.10|1701.00| 629.00|\n",
            "|ANDAMAN & NICOBAR...|1911|  0.00|  8.40|  0.00|122.50|327.30|649.00|253.00|187.10|464.50|333.80| 94.50|247.10|2687.20|   8.40| 449.80|1553.60| 675.40|\n",
            "|ANDAMAN & NICOBAR...|1912|583.70|  0.80|  0.00| 21.90|140.70|549.80|468.90|370.30|386.20|318.70|117.20|  2.30|2960.50| 584.50| 162.60|1775.20| 438.20|\n",
            "|ANDAMAN & NICOBAR...|1913| 84.80|  0.50|  1.30|  2.50|190.70|530.00|280.80|205.80|580.10|288.80|133.00| 67.50|2365.80|  85.30| 194.50|1596.70| 489.30|\n",
            "|ANDAMAN & NICOBAR...|1914|  0.00|  0.00|  0.00| 37.70|298.80|383.30|792.80|520.50|310.80|139.80|184.40|289.70|2957.80|   0.00| 336.50|2007.40| 613.90|\n",
            "|ANDAMAN & NICOBAR...|1915| 45.00| 56.70| 33.30| 40.90|170.20|334.70|269.00|317.20|429.80|468.10|258.40|318.00|2741.30| 101.70| 244.40|1350.70|1044.50|\n",
            "|ANDAMAN & NICOBAR...|1916|  0.00|  0.00|  0.00|  0.50|487.40|450.10|317.30|425.00|561.20|369.70|192.60|133.70|2937.50|   0.00| 487.90|1753.60| 696.00|\n",
            "|ANDAMAN & NICOBAR...|1917|  8.00|  3.60|112.00|  4.50|295.90|301.10|394.80|437.40|471.80|238.10|108.30|236.90|2612.40|  11.60| 412.40|1605.10| 583.30|\n",
            "|ANDAMAN & NICOBAR...|1918| 77.40|  6.90| 11.40| 10.70|729.30|710.80|200.90|455.40|303.30|227.00|366.90|175.00|3275.00|  84.30| 751.40|1670.40| 768.90|\n",
            "|ANDAMAN & NICOBAR...|1919| 10.20| 18.00|  0.00| 35.50|283.90|542.50|246.50|259.80|170.70|186.20|340.40|258.40|2352.10|  28.20| 319.40|1219.50| 785.00|\n",
            "|ANDAMAN & NICOBAR...|1920|122.30|  7.40|  3.10| 13.00|237.40|546.90|294.40|467.40|505.40|397.50|262.90| 85.50|2943.20| 129.70| 253.50|1814.10| 745.90|\n",
            "|ANDAMAN & NICOBAR...|1921| 13.20|  3.10|  0.00| 37.50|351.20|282.70|487.10|330.00|581.20|360.70|118.20| 41.50|2606.40|  16.30| 388.70|1681.00| 520.40|\n",
            "+--------------------+----+------+------+------+------+------+------+------+------+------+------+------+------+-------+-------+-------+-------+-------+\n",
            "only showing top 20 rows\n",
            "\n"
          ]
        }
      ]
    },
    {
      "cell_type": "code",
      "source": [
        "df3 = spark.read.format(\"com.dtabricks.sparks.csv\").option(\"mode\",\"DROPMALFORMED\").option(\"header\", True).option(\"inferschema\",True).csv(\"district wise rainfall normal.csv\")"
      ],
      "metadata": {
        "id": "BnagXSqVC-LW"
      },
      "execution_count": null,
      "outputs": []
    },
    {
      "cell_type": "code",
      "source": [
        "df3.show()"
      ],
      "metadata": {
        "id": "HGea7QKcDV9o",
        "outputId": "8c444136-5e87-4817-ef2b-10b2d45d0ed5",
        "colab": {
          "base_uri": "https://localhost:8080/"
        }
      },
      "execution_count": null,
      "outputs": [
        {
          "output_type": "stream",
          "name": "stdout",
          "text": [
            "+--------------------+-------------+-----+-----+-----+-----+-----+-----+-----+-----+-----+-----+-----+-----+------+-------+-------+-------+-------+\n",
            "|       STATE_UT_NAME|     DISTRICT|  JAN|  FEB|  MAR|  APR|  MAY|  JUN|  JUL|  AUG|  SEP|  OCT|  NOV|  DEC|ANNUAL|Jan-Feb|Mar-May|Jun-Sep|Oct-Dec|\n",
            "+--------------------+-------------+-----+-----+-----+-----+-----+-----+-----+-----+-----+-----+-----+-----+------+-------+-------+-------+-------+\n",
            "|ANDAMAN And NICOB...|      NICOBAR|107.3| 57.9| 65.2|117.0|358.5|295.5|285.0|271.9|354.8|326.0|315.2|250.9|2805.2|  165.2|  540.7| 1207.2|  892.1|\n",
            "|ANDAMAN And NICOB...|SOUTH ANDAMAN| 43.7| 26.0| 18.6| 90.5|374.4|457.2|421.3|423.1|455.6|301.2|275.8|128.3|3015.7|   69.7|  483.5| 1757.2|  705.3|\n",
            "|ANDAMAN And NICOB...|N & M ANDAMAN| 32.7| 15.9|  8.6| 53.4|343.6|503.3|465.4|460.9|454.8|276.1|198.6|100.0|2913.3|   48.6|  405.6| 1884.4|  574.7|\n",
            "|   ARUNACHAL PRADESH|        LOHIT| 42.2| 80.8|176.4|358.5|306.4|447.0|660.1|427.8|313.6|167.1| 34.1| 29.8|3043.8|  123.0|  841.3| 1848.5|  231.0|\n",
            "|   ARUNACHAL PRADESH|   EAST SIANG| 33.3| 79.5|105.9|216.5|323.0|738.3|990.9|711.2|568.0|206.9| 29.5| 31.7|4034.7|  112.8|  645.4| 3008.4|  268.1|\n",
            "|   ARUNACHAL PRADESH|SUBANSIRI F.D| 28.0| 48.3| 85.3|101.5|140.5|228.4|217.4|182.8|159.8| 75.9| 20.9| 11.6|1300.4|   76.3|  327.3|  788.4|  108.4|\n",
            "|   ARUNACHAL PRADESH|        TIRAP| 42.2| 72.7|141.0|316.9|328.7|614.7|851.9|500.6|418.3|218.7| 42.9| 22.9|3571.5|  114.9|  786.6| 2385.5|  284.5|\n",
            "|   ARUNACHAL PRADESH|ANJAW (LOHIT)| 42.2| 80.8|176.4|358.5|306.4|447.0|660.1|427.8|313.6|167.1| 34.1| 29.8|3043.8|  123.0|  841.3| 1848.5|  231.0|\n",
            "|   ARUNACHAL PRADESH| LOWER DIBANG| 83.7|153.9|303.5|383.6|268.0|374.2|272.0|160.5|266.7|167.2| 64.0| 56.0|2553.3|  237.6|  955.1| 1073.4|  287.2|\n",
            "|   ARUNACHAL PRADESH|    CHANGLANG| 70.3|170.9|367.9|554.4|334.2|526.2|460.8|291.5|353.6|275.0| 64.9| 74.2|3543.9|  241.2| 1256.5| 1632.1|  414.1|\n",
            "|   ARUNACHAL PRADESH|   PAPUM PARE| 33.5| 67.8|106.1|226.9|453.0|640.5|609.5|503.4|492.3|214.7| 19.2| 11.3|3378.2|  101.3|  786.0| 2245.7|  245.2|\n",
            "|   ARUNACHAL PRADESH|LOW SUBANSIRI| 97.5|109.3| 92.4|204.3|266.2|284.1|248.9|270.5|192.7| 78.5| 49.5| 27.2|1921.1|  206.8|  562.9|  996.2|  155.2|\n",
            "|   ARUNACHAL PRADESH|  UPPER SIANG| 74.3|176.7|362.6|397.5|408.7|801.9|653.0|417.9|686.0|264.9| 86.9| 71.7|4402.1|  251.0| 1168.8| 2558.8|  423.5|\n",
            "|   ARUNACHAL PRADESH|   WEST SIANG| 26.0| 66.7| 76.8|229.2|239.5|416.6|592.4|312.4|291.1|126.8| 33.7| 29.5|2440.7|   92.7|  545.5| 1612.5|  190.0|\n",
            "|   ARUNACHAL PRADESH|DIBANG VALLEY| 83.7|153.9|303.5|383.6|268.0|374.2|272.0|160.5|266.7|167.2| 64.0| 56.0|2553.3|  237.6|  955.1| 1073.4|  287.2|\n",
            "|   ARUNACHAL PRADESH|  WEST KAMENG| 35.2| 43.5| 58.9|134.3|341.1|665.3|749.9|579.1|490.9|233.9| 40.3| 27.0|3399.4|   78.7|  534.3| 2485.2|  301.2|\n",
            "|   ARUNACHAL PRADESH|  EAST KAMENG| 49.0| 74.4| 96.5|156.9|208.0|345.7|368.5|256.2|275.9|138.2| 34.4| 27.2|2030.9|  123.4|  461.4| 1246.3|  199.8|\n",
            "|   ARUNACHAL PRADESH|TAWANG(W KAME| 35.2| 43.5| 58.9|134.3|341.1|665.3|749.9|579.1|490.9|233.9| 40.3| 27.0|3399.4|   78.7|  534.3| 2485.2|  301.2|\n",
            "|   ARUNACHAL PRADESH| KURUNG KUMEY| 82.7| 70.0|128.2|245.7|271.4|292.7|404.0|276.3|283.5| 92.3| 32.3| 42.4|2221.5|  152.7|  645.3| 1256.5|  167.0|\n",
            "|               ASSAM|       CACHAR| 13.3| 50.2|168.3|262.5|386.4|532.1|526.2|470.8|360.8|182.4| 34.8| 11.4|2999.2|   63.5|  817.2| 1889.9|  228.6|\n",
            "+--------------------+-------------+-----+-----+-----+-----+-----+-----+-----+-----+-----+-----+-----+-----+------+-------+-------+-------+-------+\n",
            "only showing top 20 rows\n",
            "\n"
          ]
        }
      ]
    },
    {
      "cell_type": "code",
      "source": [
        "from pyspark.sql.functions import col"
      ],
      "metadata": {
        "id": "h-CLCxjkO6i2"
      },
      "execution_count": null,
      "outputs": []
    },
    {
      "cell_type": "code",
      "source": [
        "df3 = df3.withColumnRenamed(\"STATE_UT_NAME\", \"State\")"
      ],
      "metadata": {
        "id": "JiU9gaXMO76Z"
      },
      "execution_count": null,
      "outputs": []
    },
    {
      "cell_type": "code",
      "source": [
        "df3.show()"
      ],
      "metadata": {
        "colab": {
          "base_uri": "https://localhost:8080/"
        },
        "id": "-TteL50VPILW",
        "outputId": "2ae3f1f0-767d-4f2b-b15a-72105a241235"
      },
      "execution_count": null,
      "outputs": [
        {
          "output_type": "stream",
          "name": "stdout",
          "text": [
            "+--------------------+-------------+-----+-----+-----+-----+-----+-----+-----+-----+-----+-----+-----+-----+------+-------+-------+-------+-------+\n",
            "|               State|     DISTRICT|  JAN|  FEB|  MAR|  APR|  MAY|  JUN|  JUL|  AUG|  SEP|  OCT|  NOV|  DEC|ANNUAL|Jan-Feb|Mar-May|Jun-Sep|Oct-Dec|\n",
            "+--------------------+-------------+-----+-----+-----+-----+-----+-----+-----+-----+-----+-----+-----+-----+------+-------+-------+-------+-------+\n",
            "|ANDAMAN And NICOB...|      NICOBAR|107.3| 57.9| 65.2|117.0|358.5|295.5|285.0|271.9|354.8|326.0|315.2|250.9|2805.2|  165.2|  540.7| 1207.2|  892.1|\n",
            "|ANDAMAN And NICOB...|SOUTH ANDAMAN| 43.7| 26.0| 18.6| 90.5|374.4|457.2|421.3|423.1|455.6|301.2|275.8|128.3|3015.7|   69.7|  483.5| 1757.2|  705.3|\n",
            "|ANDAMAN And NICOB...|N & M ANDAMAN| 32.7| 15.9|  8.6| 53.4|343.6|503.3|465.4|460.9|454.8|276.1|198.6|100.0|2913.3|   48.6|  405.6| 1884.4|  574.7|\n",
            "|   ARUNACHAL PRADESH|        LOHIT| 42.2| 80.8|176.4|358.5|306.4|447.0|660.1|427.8|313.6|167.1| 34.1| 29.8|3043.8|  123.0|  841.3| 1848.5|  231.0|\n",
            "|   ARUNACHAL PRADESH|   EAST SIANG| 33.3| 79.5|105.9|216.5|323.0|738.3|990.9|711.2|568.0|206.9| 29.5| 31.7|4034.7|  112.8|  645.4| 3008.4|  268.1|\n",
            "|   ARUNACHAL PRADESH|SUBANSIRI F.D| 28.0| 48.3| 85.3|101.5|140.5|228.4|217.4|182.8|159.8| 75.9| 20.9| 11.6|1300.4|   76.3|  327.3|  788.4|  108.4|\n",
            "|   ARUNACHAL PRADESH|        TIRAP| 42.2| 72.7|141.0|316.9|328.7|614.7|851.9|500.6|418.3|218.7| 42.9| 22.9|3571.5|  114.9|  786.6| 2385.5|  284.5|\n",
            "|   ARUNACHAL PRADESH|ANJAW (LOHIT)| 42.2| 80.8|176.4|358.5|306.4|447.0|660.1|427.8|313.6|167.1| 34.1| 29.8|3043.8|  123.0|  841.3| 1848.5|  231.0|\n",
            "|   ARUNACHAL PRADESH| LOWER DIBANG| 83.7|153.9|303.5|383.6|268.0|374.2|272.0|160.5|266.7|167.2| 64.0| 56.0|2553.3|  237.6|  955.1| 1073.4|  287.2|\n",
            "|   ARUNACHAL PRADESH|    CHANGLANG| 70.3|170.9|367.9|554.4|334.2|526.2|460.8|291.5|353.6|275.0| 64.9| 74.2|3543.9|  241.2| 1256.5| 1632.1|  414.1|\n",
            "|   ARUNACHAL PRADESH|   PAPUM PARE| 33.5| 67.8|106.1|226.9|453.0|640.5|609.5|503.4|492.3|214.7| 19.2| 11.3|3378.2|  101.3|  786.0| 2245.7|  245.2|\n",
            "|   ARUNACHAL PRADESH|LOW SUBANSIRI| 97.5|109.3| 92.4|204.3|266.2|284.1|248.9|270.5|192.7| 78.5| 49.5| 27.2|1921.1|  206.8|  562.9|  996.2|  155.2|\n",
            "|   ARUNACHAL PRADESH|  UPPER SIANG| 74.3|176.7|362.6|397.5|408.7|801.9|653.0|417.9|686.0|264.9| 86.9| 71.7|4402.1|  251.0| 1168.8| 2558.8|  423.5|\n",
            "|   ARUNACHAL PRADESH|   WEST SIANG| 26.0| 66.7| 76.8|229.2|239.5|416.6|592.4|312.4|291.1|126.8| 33.7| 29.5|2440.7|   92.7|  545.5| 1612.5|  190.0|\n",
            "|   ARUNACHAL PRADESH|DIBANG VALLEY| 83.7|153.9|303.5|383.6|268.0|374.2|272.0|160.5|266.7|167.2| 64.0| 56.0|2553.3|  237.6|  955.1| 1073.4|  287.2|\n",
            "|   ARUNACHAL PRADESH|  WEST KAMENG| 35.2| 43.5| 58.9|134.3|341.1|665.3|749.9|579.1|490.9|233.9| 40.3| 27.0|3399.4|   78.7|  534.3| 2485.2|  301.2|\n",
            "|   ARUNACHAL PRADESH|  EAST KAMENG| 49.0| 74.4| 96.5|156.9|208.0|345.7|368.5|256.2|275.9|138.2| 34.4| 27.2|2030.9|  123.4|  461.4| 1246.3|  199.8|\n",
            "|   ARUNACHAL PRADESH|TAWANG(W KAME| 35.2| 43.5| 58.9|134.3|341.1|665.3|749.9|579.1|490.9|233.9| 40.3| 27.0|3399.4|   78.7|  534.3| 2485.2|  301.2|\n",
            "|   ARUNACHAL PRADESH| KURUNG KUMEY| 82.7| 70.0|128.2|245.7|271.4|292.7|404.0|276.3|283.5| 92.3| 32.3| 42.4|2221.5|  152.7|  645.3| 1256.5|  167.0|\n",
            "|               ASSAM|       CACHAR| 13.3| 50.2|168.3|262.5|386.4|532.1|526.2|470.8|360.8|182.4| 34.8| 11.4|2999.2|   63.5|  817.2| 1889.9|  228.6|\n",
            "+--------------------+-------------+-----+-----+-----+-----+-----+-----+-----+-----+-----+-----+-----+-----+------+-------+-------+-------+-------+\n",
            "only showing top 20 rows\n",
            "\n"
          ]
        }
      ]
    },
    {
      "cell_type": "code",
      "source": [
        "df2 = df2.withColumnRenamed(\"SUBDIVISION\", \"State\")"
      ],
      "metadata": {
        "id": "8vRWC53oPH62"
      },
      "execution_count": null,
      "outputs": []
    },
    {
      "cell_type": "code",
      "source": [
        "df2.show()"
      ],
      "metadata": {
        "colab": {
          "base_uri": "https://localhost:8080/"
        },
        "id": "YT4oJ-KbPw5l",
        "outputId": "d36c00b0-8cdd-4445-a59d-9337854a312e"
      },
      "execution_count": null,
      "outputs": [
        {
          "output_type": "stream",
          "name": "stdout",
          "text": [
            "+--------------------+----+------+------+------+------+------+------+------+------+------+------+------+------+-------+-------+-------+-------+-------+\n",
            "|               State|YEAR|   JAN|   FEB|   MAR|   APR|   MAY|   JUN|   JUL|   AUG|   SEP|   OCT|   NOV|   DEC| ANNUAL|Jan-Feb|Mar-May|Jun-Sep|Oct-Dec|\n",
            "+--------------------+----+------+------+------+------+------+------+------+------+------+------+------+------+-------+-------+-------+-------+-------+\n",
            "|ANDAMAN & NICOBAR...|1901| 49.20| 87.10| 29.20|  2.30|528.80|517.50|365.10|481.10|332.60|388.50|558.20| 33.60|3373.20| 136.30| 560.30|1696.30| 980.30|\n",
            "|ANDAMAN & NICOBAR...|1902|  0.00|159.80| 12.20|  0.00|446.10|537.10|228.90|753.70|666.20|197.20|359.00|160.50|3520.70| 159.80| 458.30|2185.90| 716.70|\n",
            "|ANDAMAN & NICOBAR...|1903| 12.70|144.00|  0.00|  1.00|235.10|479.90|728.40|326.70|339.00|181.20|284.40|225.00|2957.40| 156.70| 236.10|1874.00| 690.60|\n",
            "|ANDAMAN & NICOBAR...|1904|  9.40| 14.70|  0.00|202.40|304.50|495.10|502.00|160.10|820.40|222.20|308.70| 40.10|3079.60|  24.10| 506.90|1977.60| 571.00|\n",
            "|ANDAMAN & NICOBAR...|1905|  1.30|  0.00|  3.30| 26.90|279.50|628.70|368.70|330.50|297.00|260.70| 25.40|344.70|2566.70|   1.30| 309.70|1624.90| 630.80|\n",
            "|ANDAMAN & NICOBAR...|1906| 36.60|  0.00|  0.00|  0.00|556.10|733.30|247.70|320.50|164.30|267.80|128.90| 79.20|2534.40|  36.60| 556.10|1465.80| 475.90|\n",
            "|ANDAMAN & NICOBAR...|1907|110.70|  0.00|113.30| 21.60|616.30|305.20|443.90|377.60|200.40|264.40|648.90|245.60|3347.90| 110.70| 751.20|1327.10|1158.90|\n",
            "|ANDAMAN & NICOBAR...|1908| 20.90| 85.10|  0.00| 29.00|562.00|693.60|481.40|699.90|428.80|170.70|208.10|196.90|3576.40| 106.00| 591.00|2303.70| 575.70|\n",
            "|ANDAMAN & NICOBAR...|1910| 26.60| 22.70|206.30| 89.30|224.50|472.70|264.30|337.40|626.60|208.20|267.30|153.50|2899.40|  49.30| 520.10|1701.00| 629.00|\n",
            "|ANDAMAN & NICOBAR...|1911|  0.00|  8.40|  0.00|122.50|327.30|649.00|253.00|187.10|464.50|333.80| 94.50|247.10|2687.20|   8.40| 449.80|1553.60| 675.40|\n",
            "|ANDAMAN & NICOBAR...|1912|583.70|  0.80|  0.00| 21.90|140.70|549.80|468.90|370.30|386.20|318.70|117.20|  2.30|2960.50| 584.50| 162.60|1775.20| 438.20|\n",
            "|ANDAMAN & NICOBAR...|1913| 84.80|  0.50|  1.30|  2.50|190.70|530.00|280.80|205.80|580.10|288.80|133.00| 67.50|2365.80|  85.30| 194.50|1596.70| 489.30|\n",
            "|ANDAMAN & NICOBAR...|1914|  0.00|  0.00|  0.00| 37.70|298.80|383.30|792.80|520.50|310.80|139.80|184.40|289.70|2957.80|   0.00| 336.50|2007.40| 613.90|\n",
            "|ANDAMAN & NICOBAR...|1915| 45.00| 56.70| 33.30| 40.90|170.20|334.70|269.00|317.20|429.80|468.10|258.40|318.00|2741.30| 101.70| 244.40|1350.70|1044.50|\n",
            "|ANDAMAN & NICOBAR...|1916|  0.00|  0.00|  0.00|  0.50|487.40|450.10|317.30|425.00|561.20|369.70|192.60|133.70|2937.50|   0.00| 487.90|1753.60| 696.00|\n",
            "|ANDAMAN & NICOBAR...|1917|  8.00|  3.60|112.00|  4.50|295.90|301.10|394.80|437.40|471.80|238.10|108.30|236.90|2612.40|  11.60| 412.40|1605.10| 583.30|\n",
            "|ANDAMAN & NICOBAR...|1918| 77.40|  6.90| 11.40| 10.70|729.30|710.80|200.90|455.40|303.30|227.00|366.90|175.00|3275.00|  84.30| 751.40|1670.40| 768.90|\n",
            "|ANDAMAN & NICOBAR...|1919| 10.20| 18.00|  0.00| 35.50|283.90|542.50|246.50|259.80|170.70|186.20|340.40|258.40|2352.10|  28.20| 319.40|1219.50| 785.00|\n",
            "|ANDAMAN & NICOBAR...|1920|122.30|  7.40|  3.10| 13.00|237.40|546.90|294.40|467.40|505.40|397.50|262.90| 85.50|2943.20| 129.70| 253.50|1814.10| 745.90|\n",
            "|ANDAMAN & NICOBAR...|1921| 13.20|  3.10|  0.00| 37.50|351.20|282.70|487.10|330.00|581.20|360.70|118.20| 41.50|2606.40|  16.30| 388.70|1681.00| 520.40|\n",
            "+--------------------+----+------+------+------+------+------+------+------+------+------+------+------+------+-------+-------+-------+-------+-------+\n",
            "only showing top 20 rows\n",
            "\n"
          ]
        }
      ]
    },
    {
      "cell_type": "code",
      "source": [
        "joined_df = df1.join(df2, [\"State\",\"YEAR\"], \"inner\")\n"
      ],
      "metadata": {
        "id": "KT-KHAD1DXvL"
      },
      "execution_count": null,
      "outputs": []
    },
    {
      "cell_type": "code",
      "source": [
        "joined_df.show()"
      ],
      "metadata": {
        "colab": {
          "base_uri": "https://localhost:8080/"
        },
        "id": "_9nFBKkZP8EC",
        "outputId": "485968c7-d2f4-48ce-abf9-6f8e1dd24b7d"
      },
      "execution_count": null,
      "outputs": [
        {
          "output_type": "stream",
          "name": "stdout",
          "text": [
            "+-----------------+----+-------------+-----------+-------------+------+----------+-----+------+------+------+------+------+------+------+------+------+-----+-----+-------+-------+-------+-------+-------+\n",
            "|            State|YEAR|District_Name|     Season|         Crop|  Area|Production|  JAN|   FEB|   MAR|   APR|   MAY|   JUN|   JUL|   AUG|   SEP|   OCT|  NOV|  DEC| ANNUAL|Jan-Feb|Mar-May|Jun-Sep|Oct-Dec|\n",
            "+-----------------+----+-------------+-----------+-------------+------+----------+-----+------+------+------+------+------+------+------+------+------+-----+-----+-------+-------+-------+-------+-------+\n",
            "|ARUNACHAL PRADESH|2004|        ANJAW|Kharif     |        Maize|2453.0|    2674.0|38.00| 39.10|175.50|210.20|298.70|402.90|654.30|243.00|278.50|184.80| 5.60|15.20|2545.70|  77.10| 684.30|1578.70| 205.60|\n",
            "|ARUNACHAL PRADESH|2004|        ANJAW|Kharif     |         Rice|3342.0|    1914.0|38.00| 39.10|175.50|210.20|298.70|402.90|654.30|243.00|278.50|184.80| 5.60|15.20|2545.70|  77.10| 684.30|1578.70| 205.60|\n",
            "|ARUNACHAL PRADESH|2004|        ANJAW|Kharif     |Small millets| 532.0|     495.0|38.00| 39.10|175.50|210.20|298.70|402.90|654.30|243.00|278.50|184.80| 5.60|15.20|2545.70|  77.10| 684.30|1578.70| 205.60|\n",
            "|ARUNACHAL PRADESH|2004|        ANJAW|Rabi       |        Wheat|  30.0|      60.0|38.00| 39.10|175.50|210.20|298.70|402.90|654.30|243.00|278.50|184.80| 5.60|15.20|2545.70|  77.10| 684.30|1578.70| 205.60|\n",
            "|ARUNACHAL PRADESH|2004|        ANJAW|Whole Year | Dry chillies|  13.0|      18.0|38.00| 39.10|175.50|210.20|298.70|402.90|654.30|243.00|278.50|184.80| 5.60|15.20|2545.70|  77.10| 684.30|1578.70| 205.60|\n",
            "|ARUNACHAL PRADESH|2004|        ANJAW|Whole Year |   Dry ginger|  60.0|     420.0|38.00| 39.10|175.50|210.20|298.70|402.90|654.30|243.00|278.50|184.80| 5.60|15.20|2545.70|  77.10| 684.30|1578.70| 205.60|\n",
            "|ARUNACHAL PRADESH|2004|        ANJAW|Whole Year |       Potato|  86.0|     688.0|38.00| 39.10|175.50|210.20|298.70|402.90|654.30|243.00|278.50|184.80| 5.60|15.20|2545.70|  77.10| 684.30|1578.70| 205.60|\n",
            "|ARUNACHAL PRADESH|2004|        ANJAW|Whole Year |    Sugarcane|   5.0|      50.0|38.00| 39.10|175.50|210.20|298.70|402.90|654.30|243.00|278.50|184.80| 5.60|15.20|2545.70|  77.10| 684.30|1578.70| 205.60|\n",
            "|ARUNACHAL PRADESH|2004|        ANJAW|Whole Year |     Turmeric|   8.0|      20.0|38.00| 39.10|175.50|210.20|298.70|402.90|654.30|243.00|278.50|184.80| 5.60|15.20|2545.70|  77.10| 684.30|1578.70| 205.60|\n",
            "|ARUNACHAL PRADESH|2005|        ANJAW|Kharif     |        Maize|3000.0|    2700.0|48.40|167.60|229.50|195.30|179.80|269.30|430.80|400.00|243.60|139.30|28.60| 3.30|2335.50| 216.00| 604.60|1343.70| 171.20|\n",
            "|ARUNACHAL PRADESH|2005|        ANJAW|Kharif     |         Rice|3400.0|    5000.0|48.40|167.60|229.50|195.30|179.80|269.30|430.80|400.00|243.60|139.30|28.60| 3.30|2335.50| 216.00| 604.60|1343.70| 171.20|\n",
            "|ARUNACHAL PRADESH|2005|        ANJAW|Kharif     |Small millets| 585.0|     525.0|48.40|167.60|229.50|195.30|179.80|269.30|430.80|400.00|243.60|139.30|28.60| 3.30|2335.50| 216.00| 604.60|1343.70| 171.20|\n",
            "|ARUNACHAL PRADESH|2005|        ANJAW|Rabi       |        Wheat|  32.0|      65.0|48.40|167.60|229.50|195.30|179.80|269.30|430.80|400.00|243.60|139.30|28.60| 3.30|2335.50| 216.00| 604.60|1343.70| 171.20|\n",
            "|ARUNACHAL PRADESH|2005|        ANJAW|Whole Year | Dry chillies|  20.0|      28.0|48.40|167.60|229.50|195.30|179.80|269.30|430.80|400.00|243.60|139.30|28.60| 3.30|2335.50| 216.00| 604.60|1343.70| 171.20|\n",
            "|ARUNACHAL PRADESH|2005|        ANJAW|Whole Year |   Dry ginger|  65.0|     455.0|48.40|167.60|229.50|195.30|179.80|269.30|430.80|400.00|243.60|139.30|28.60| 3.30|2335.50| 216.00| 604.60|1343.70| 171.20|\n",
            "|ARUNACHAL PRADESH|2005|        ANJAW|Whole Year |       Potato|  90.0|     720.0|48.40|167.60|229.50|195.30|179.80|269.30|430.80|400.00|243.60|139.30|28.60| 3.30|2335.50| 216.00| 604.60|1343.70| 171.20|\n",
            "|ARUNACHAL PRADESH|2005|        ANJAW|Whole Year |    Sugarcane|   7.0|      70.0|48.40|167.60|229.50|195.30|179.80|269.30|430.80|400.00|243.60|139.30|28.60| 3.30|2335.50| 216.00| 604.60|1343.70| 171.20|\n",
            "|ARUNACHAL PRADESH|2005|        ANJAW|Whole Year |     Turmeric|  10.0|      25.0|48.40|167.60|229.50|195.30|179.80|269.30|430.80|400.00|243.60|139.30|28.60| 3.30|2335.50| 216.00| 604.60|1343.70| 171.20|\n",
            "|ARUNACHAL PRADESH|2006|        ANJAW|Kharif     |        Maize|3234.0|    3719.0| 6.00|103.70| 63.30|202.70|321.70|520.40|382.20|227.60|263.20| 77.20|69.70|21.70|2259.60| 109.70| 587.70|1393.50| 168.70|\n",
            "|ARUNACHAL PRADESH|2006|        ANJAW|Kharif     |         Rice|4060.0|    3004.0| 6.00|103.70| 63.30|202.70|321.70|520.40|382.20|227.60|263.20| 77.20|69.70|21.70|2259.60| 109.70| 587.70|1393.50| 168.70|\n",
            "+-----------------+----+-------------+-----------+-------------+------+----------+-----+------+------+------+------+------+------+------+------+------+-----+-----+-------+-------+-------+-------+-------+\n",
            "only showing top 20 rows\n",
            "\n"
          ]
        }
      ]
    },
    {
      "cell_type": "code",
      "source": [
        "joined_df = joined_df.withColumnRenamed(\"Annual\", \"Rainfall\")"
      ],
      "metadata": {
        "id": "98a3O9zTINZD"
      },
      "execution_count": null,
      "outputs": []
    },
    {
      "cell_type": "code",
      "source": [
        "df_merged = joined_df['State','YEAR','Season','Crop','Rainfall', 'Area','Production']"
      ],
      "metadata": {
        "id": "inr6_gXBjtD_"
      },
      "execution_count": null,
      "outputs": []
    },
    {
      "cell_type": "code",
      "source": [],
      "metadata": {
        "id": "NWKdNLr3pi7j"
      },
      "execution_count": null,
      "outputs": []
    },
    {
      "cell_type": "code",
      "source": [
        "from pyspark.sql.functions import  avg\n",
        "\n",
        "# Assume the DataFrame is called `df` and contains a column `value` and a column `date` with the format 'yyyy-mm-dd'\n",
        "df_avg_by_state = df_merged.groupBy('State').agg(avg('Rainfall').alias('avg_rainfall'),avg('Production').alias('avg_production')).orderBy('State')\n",
        "\n",
        "# Show the resulting DataFrame\n",
        "df_avg_by_state.show()\n",
        "df_avg_by_state_pd = df_avg_by_state.toPandas()"
      ],
      "metadata": {
        "colab": {
          "base_uri": "https://localhost:8080/"
        },
        "id": "pA8lOXeoi5_Z",
        "outputId": "731203ea-d4ed-48cf-95a1-72ded2cf54ce"
      },
      "execution_count": null,
      "outputs": [
        {
          "output_type": "stream",
          "name": "stdout",
          "text": [
            "+-----------------+------------------+-------------------+\n",
            "|            State|      avg_rainfall|     avg_production|\n",
            "+-----------------+------------------+-------------------+\n",
            "|ARUNACHAL PRADESH|2504.1995679497627| 2681.3016110019653|\n",
            "|            BIHAR| 1161.739888800616|  19417.37822719085|\n",
            "|     CHHATTISGARH| 1274.152236436557|  9736.873843557098|\n",
            "| HIMACHAL PRADESH|1134.0299518845038|   7249.66148208469|\n",
            "|        JHARKHAND|1190.7740126382369|  8513.224131121651|\n",
            "|           KERALA| 2841.861957286988|2.445167258948291E7|\n",
            "|           PUNJAB| 499.1636936652942| 186568.56538339166|\n",
            "|       TAMIL NADU| 840.6875470584001|  910330.3971754861|\n",
            "|      UTTARAKHAND|1444.4504289216177| 27394.270466321243|\n",
            "+-----------------+------------------+-------------------+\n",
            "\n"
          ]
        }
      ]
    },
    {
      "cell_type": "code",
      "source": [
        "from pyspark.sql.functions import  avg\n",
        "\n",
        "# Assume the DataFrame is called `df` and contains a column `value` and a column `date` with the format 'yyyy-mm-dd'\n",
        "df_avg_by_season = df_merged.groupBy('Season').agg(avg('Rainfall').alias('avg_rainfall'),avg('Production').alias('avg_production')).orderBy('Season')\n",
        "\n",
        "# Show the resulting DataFrame\n",
        "df_avg_by_season.show()\n",
        "df_avg_by_season_pd = df_avg_by_season.toPandas()"
      ],
      "metadata": {
        "colab": {
          "base_uri": "https://localhost:8080/"
        },
        "id": "c7uU0fr0ByYm",
        "outputId": "f58ed2cc-c215-4d18-a157-5375c04b80e9"
      },
      "execution_count": null,
      "outputs": [
        {
          "output_type": "stream",
          "name": "stdout",
          "text": [
            "+-----------+------------------+------------------+\n",
            "|     Season|      avg_rainfall|    avg_production|\n",
            "+-----------+------------------+------------------+\n",
            "|Autumn     |1426.3012372634716| 21113.67310269484|\n",
            "|Kharif     |1169.8753146531842| 23511.58198759502|\n",
            "|Rabi       |1164.4859706037696|28053.122422638982|\n",
            "|Summer     |1367.3305845511497| 9571.412934100419|\n",
            "|Whole Year |1418.6516913370733|5484168.5296175545|\n",
            "|Winter     |1569.6799603174704|  79467.0108937438|\n",
            "+-----------+------------------+------------------+\n",
            "\n"
          ]
        }
      ]
    },
    {
      "cell_type": "code",
      "source": [
        "from pyspark.sql.functions import  avg\n",
        "\n",
        "# Assume the DataFrame is called `df` and contains a column `value` and a column `date` with the format 'yyyy-mm-dd'\n",
        "df_avg_by_year = df_merged.groupBy('YEAR').agg(avg('Rainfall').alias('avg_rainfall'),avg('Production').alias('avg_production')).orderBy('YEAR')\n",
        "\n",
        "# Show the resulting DataFrame\n",
        "df_avg_by_year.show()"
      ],
      "metadata": {
        "colab": {
          "base_uri": "https://localhost:8080/"
        },
        "id": "MfWySpLoMZJb",
        "outputId": "26b852de-656f-4e8e-c430-9fb502fb873a"
      },
      "execution_count": null,
      "outputs": [
        {
          "output_type": "stream",
          "name": "stdout",
          "text": [
            "+----+------------------+------------------+\n",
            "|YEAR|      avg_rainfall|    avg_production|\n",
            "+----+------------------+------------------+\n",
            "|1997|1255.7062218214426|  177885.715509468|\n",
            "|1998|1526.3185025480277|2064786.4373280944|\n",
            "|1999|1350.7227016128813| 2344545.044534413|\n",
            "|2000|1233.7839641721937|1651447.5053107673|\n",
            "|2001| 1363.114819506027|1786950.2132780082|\n",
            "|2002| 1009.605908607863|1249983.9431021898|\n",
            "|2003|1173.4028379548952|1312519.4253704515|\n",
            "|2004|1239.4266218035254| 1659746.294286102|\n",
            "|2005|1265.3144692881128| 1691318.370152111|\n",
            "|2006|1294.4803359955952|1760621.5704352774|\n",
            "|2007|1539.2709022556458|1459042.0821233569|\n",
            "|2008| 1284.275943270004|1646715.9632598513|\n",
            "|2009| 1043.733197107867|1874003.6985093975|\n",
            "|2010|1193.6291302942077|1771660.8541789579|\n",
            "|2011|1282.4590136054533| 3538442.600757926|\n",
            "|2012|1296.6051113201436|1924986.4758214285|\n",
            "|2013|1300.5685556141223| 2907067.185807151|\n",
            "|2014| 1375.404719971828|2190976.3085999275|\n",
            "+----+------------------+------------------+\n",
            "\n"
          ]
        }
      ]
    },
    {
      "cell_type": "code",
      "source": [
        "import matplotlib.pyplot as plt\n",
        "from pyspark.sql.functions import col\n",
        "\n",
        "# select the columns to plot\n",
        "x = df_avg_by_year.select(col(\"Year\")).collect()\n",
        "y = df_avg_by_year.select(col(\"avg_rainfall\")).collect()\n",
        "\n",
        "# create a scatter plot\n",
        "plt.plot(x, y)\n",
        "\n",
        "# add axis labels and a title\n",
        "plt.xticks(range(1997, 2015, 2), [str(year) for year in range(1997, 2015, 2)])\n",
        "plt.xlabel(\"Year\")\n",
        "plt.ylabel(\"rainfall\")\n",
        "plt.title(\"Year vs. Rainfall\")\n",
        "\n",
        "# show the plot\n",
        "plt.show()\n"
      ],
      "metadata": {
        "colab": {
          "base_uri": "https://localhost:8080/",
          "height": 472
        },
        "id": "BBXv5ZBwOGat",
        "outputId": "9d3b65d5-d0cf-4af9-f722-bbfb4d91ba19"
      },
      "execution_count": null,
      "outputs": [
        {
          "output_type": "display_data",
          "data": {
            "text/plain": [
              "<Figure size 640x480 with 1 Axes>"
            ],
            "image/png": "[encoded data removed]"
          },
          "metadata": {}
        }
      ]
    },
    {
      "cell_type": "code",
      "source": [
        "import matplotlib.pyplot as plt\n",
        "from pyspark.sql.functions import col\n",
        "\n",
        "# select the columns to plot\n",
        "x = df_avg_by_year.select(col(\"Year\")).collect()\n",
        "y = df_avg_by_year.select(col(\"avg_production\")).collect()\n",
        "\n",
        "# create a plot\n",
        "plt.plot(x, y)\n",
        "\n",
        "# add axis labels and a title\n",
        "plt.xticks(range(1997, 2015, 2), [str(year) for year in range(1997, 2015, 2)])\n",
        "plt.xlabel(\"Year\")\n",
        "plt.ylabel(\"Production\")\n",
        "plt.title(\"Year vs. Production\")\n",
        "\n",
        "# show the plot\n",
        "plt.show()"
      ],
      "metadata": {
        "colab": {
          "base_uri": "https://localhost:8080/",
          "height": 472
        },
        "id": "3cwKv_lOPrK1",
        "outputId": "071b6287-09eb-43c2-9062-3fb749ced475"
      },
      "execution_count": null,
      "outputs": [
        {
          "output_type": "display_data",
          "data": {
            "text/plain": [
              "<Figure size 640x480 with 1 Axes>"
            ],
            "image/png": "[encoded data removed]"
          },
          "metadata": {}
        }
      ]
    },
    {
      "cell_type": "code",
      "source": [
        "#df_merged.collect()"
      ],
      "metadata": {
        "id": "Vb0sk9TNH2ec"
      },
      "execution_count": null,
      "outputs": []
    },
    {
      "cell_type": "code",
      "source": [
        "df = df_merged.toPandas()\n"
      ],
      "metadata": {
        "id": "QnEvK39JkOiv"
      },
      "execution_count": null,
      "outputs": []
    },
    {
      "cell_type": "code",
      "source": [
        "df"
      ],
      "metadata": {
        "colab": {
          "base_uri": "https://localhost:8080/",
          "height": 423
        },
        "id": "7X--EqLpZXM1",
        "outputId": "691eca9e-c021-48bd-8fb6-56480fb38ab4"
      },
      "execution_count": null,
      "outputs": [
        {
          "output_type": "execute_result",
          "data": {
            "text/plain": [
              "                   State  YEAR       Season             Crop Rainfall  \\\n",
              "0      ARUNACHAL PRADESH  2004  Kharif                 Maize  2545.70   \n",
              "1      ARUNACHAL PRADESH  2004  Kharif                  Rice  2545.70   \n",
              "2      ARUNACHAL PRADESH  2004  Kharif         Small millets  2545.70   \n",
              "3      ARUNACHAL PRADESH  2004  Rabi                   Wheat  2545.70   \n",
              "4      ARUNACHAL PRADESH  2004  Whole Year      Dry chillies  2545.70   \n",
              "...                  ...   ...          ...              ...      ...   \n",
              "61772        UTTARAKHAND  2014  Whole Year             Onion  1287.40   \n",
              "61773        UTTARAKHAND  2014  Whole Year      Pulses total  1287.40   \n",
              "61774        UTTARAKHAND  2014  Whole Year              Rice  1287.40   \n",
              "61775        UTTARAKHAND  2014  Whole Year         Sunflower  1287.40   \n",
              "61776        UTTARAKHAND  2014  Whole Year   Total foodgrain  1287.40   \n",
              "\n",
              "          Area  Production  \n",
              "0       2453.0      2674.0  \n",
              "1       3342.0      1914.0  \n",
              "2        532.0       495.0  \n",
              "3         30.0        60.0  \n",
              "4         13.0        18.0  \n",
              "...        ...         ...  \n",
              "61772     26.0       172.0  \n",
              "61773   5346.0      4630.0  \n",
              "61774   9919.0     16499.0  \n",
              "61775      3.0         3.0  \n",
              "61776  35417.0     49689.0  \n",
              "\n",
              "[61777 rows x 7 columns]"
            ],
            "text/html": [
              "\n",
              "  <div id=\"df-296ba8f2-f46b-44b4-a8e5-ec7822217179\">\n",
              "    <div class=\"colab-df-container\">\n",
              "      <div>\n",
              "<style scoped>\n",
              "    .dataframe tbody tr th:only-of-type {\n",
              "        vertical-align: middle;\n",
              "    }\n",
              "\n",
              "    .dataframe tbody tr th {\n",
              "        vertical-align: top;\n",
              "    }\n",
              "\n",
              "    .dataframe thead th {\n",
              "        text-align: right;\n",
              "    }\n",
              "</style>\n",
              "<table border=\"1\" class=\"dataframe\">\n",
              "  <thead>\n",
              "    <tr style=\"text-align: right;\">\n",
              "      <th></th>\n",
              "      <th>State</th>\n",
              "      <th>YEAR</th>\n",
              "      <th>Season</th>\n",
              "      <th>Crop</th>\n",
              "      <th>Rainfall</th>\n",
              "      <th>Area</th>\n",
              "      <th>Production</th>\n",
              "    </tr>\n",
              "  </thead>\n",
              "  <tbody>\n",
              "    <tr>\n",
              "      <th>0</th>\n",
              "      <td>ARUNACHAL PRADESH</td>\n",
              "      <td>2004</td>\n",
              "      <td>Kharif</td>\n",
              "      <td>Maize</td>\n",
              "      <td>2545.70</td>\n",
              "      <td>2453.0</td>\n",
              "      <td>2674.0</td>\n",
              "    </tr>\n",
              "    <tr>\n",
              "      <th>1</th>\n",
              "      <td>ARUNACHAL PRADESH</td>\n",
              "      <td>2004</td>\n",
              "      <td>Kharif</td>\n",
              "      <td>Rice</td>\n",
              "      <td>2545.70</td>\n",
              "      <td>3342.0</td>\n",
              "      <td>1914.0</td>\n",
              "    </tr>\n",
              "    <tr>\n",
              "      <th>2</th>\n",
              "      <td>ARUNACHAL PRADESH</td>\n",
              "      <td>2004</td>\n",
              "      <td>Kharif</td>\n",
              "      <td>Small millets</td>\n",
              "      <td>2545.70</td>\n",
              "      <td>532.0</td>\n",
              "      <td>495.0</td>\n",
              "    </tr>\n",
              "    <tr>\n",
              "      <th>3</th>\n",
              "      <td>ARUNACHAL PRADESH</td>\n",
              "      <td>2004</td>\n",
              "      <td>Rabi</td>\n",
              "      <td>Wheat</td>\n",
              "      <td>2545.70</td>\n",
              "      <td>30.0</td>\n",
              "      <td>60.0</td>\n",
              "    </tr>\n",
              "    <tr>\n",
              "      <th>4</th>\n",
              "      <td>ARUNACHAL PRADESH</td>\n",
              "      <td>2004</td>\n",
              "      <td>Whole Year</td>\n",
              "      <td>Dry chillies</td>\n",
              "      <td>2545.70</td>\n",
              "      <td>13.0</td>\n",
              "      <td>18.0</td>\n",
              "    </tr>\n",
              "    <tr>\n",
              "      <th>...</th>\n",
              "      <td>...</td>\n",
              "      <td>...</td>\n",
              "      <td>...</td>\n",
              "      <td>...</td>\n",
              "      <td>...</td>\n",
              "      <td>...</td>\n",
              "      <td>...</td>\n",
              "    </tr>\n",
              "    <tr>\n",
              "      <th>61772</th>\n",
              "      <td>UTTARAKHAND</td>\n",
              "      <td>2014</td>\n",
              "      <td>Whole Year</td>\n",
              "      <td>Onion</td>\n",
              "      <td>1287.40</td>\n",
              "      <td>26.0</td>\n",
              "      <td>172.0</td>\n",
              "    </tr>\n",
              "    <tr>\n",
              "      <th>61773</th>\n",
              "      <td>UTTARAKHAND</td>\n",
              "      <td>2014</td>\n",
              "      <td>Whole Year</td>\n",
              "      <td>Pulses total</td>\n",
              "      <td>1287.40</td>\n",
              "      <td>5346.0</td>\n",
              "      <td>4630.0</td>\n",
              "    </tr>\n",
              "    <tr>\n",
              "      <th>61774</th>\n",
              "      <td>UTTARAKHAND</td>\n",
              "      <td>2014</td>\n",
              "      <td>Whole Year</td>\n",
              "      <td>Rice</td>\n",
              "      <td>1287.40</td>\n",
              "      <td>9919.0</td>\n",
              "      <td>16499.0</td>\n",
              "    </tr>\n",
              "    <tr>\n",
              "      <th>61775</th>\n",
              "      <td>UTTARAKHAND</td>\n",
              "      <td>2014</td>\n",
              "      <td>Whole Year</td>\n",
              "      <td>Sunflower</td>\n",
              "      <td>1287.40</td>\n",
              "      <td>3.0</td>\n",
              "      <td>3.0</td>\n",
              "    </tr>\n",
              "    <tr>\n",
              "      <th>61776</th>\n",
              "      <td>UTTARAKHAND</td>\n",
              "      <td>2014</td>\n",
              "      <td>Whole Year</td>\n",
              "      <td>Total foodgrain</td>\n",
              "      <td>1287.40</td>\n",
              "      <td>35417.0</td>\n",
              "      <td>49689.0</td>\n",
              "    </tr>\n",
              "  </tbody>\n",
              "</table>\n",
              "<p>61777 rows × 7 columns</p>\n",
              "</div>\n",
              "      <button class=\"colab-df-convert\" onclick=\"convertToInteractive('df-296ba8f2-f46b-44b4-a8e5-ec7822217179')\"\n",
              "              title=\"Convert this dataframe to an interactive table.\"\n",
              "              style=\"display:none;\">\n",
              "        \n",
              "  <svg xmlns=\"http://www.w3.org/2000/svg\" height=\"24px\"viewBox=\"0 0 24 24\"\n",
              "       width=\"24px\">\n",
              "    <path d=\"M0 0h24v24H0V0z\" fill=\"none\"/>\n",
              "    <path d=\"M18.56 5.44l.94 2.06.94-2.06 2.06-.94-2.06-.94-.94-2.06-.94 2.06-2.06.94zm-11 1L8.5 8.5l.94-2.06 2.06-.94-2.06-.94L8.5 2.5l-.94 2.06-2.06.94zm10 10l.94 2.06.94-2.06 2.06-.94-2.06-.94-.94-2.06-.94 2.06-2.06.94z\"/><path d=\"M17.41 7.96l-1.37-1.37c-.4-.4-.92-.59-1.43-.59-.52 0-1.04.2-1.43.59L10.3 9.45l-7.72 7.72c-.78.78-.78 2.05 0 2.83L4 21.41c.39.39.9.59 1.41.59.51 0 1.02-.2 1.41-.59l7.78-7.78 2.81-2.81c.8-.78.8-2.07 0-2.86zM5.41 20L4 18.59l7.72-7.72 1.47 1.35L5.41 20z\"/>\n",
              "  </svg>\n",
              "      </button>\n",
              "      \n",
              "  <style>\n",
              "    .colab-df-container {\n",
              "      display:flex;\n",
              "      flex-wrap:wrap;\n",
              "      gap: 12px;\n",
              "    }\n",
              "\n",
              "    .colab-df-convert {\n",
              "      background-color: #E8F0FE;\n",
              "      border: none;\n",
              "      border-radius: 50%;\n",
              "      cursor: pointer;\n",
              "      display: none;\n",
              "      fill: #1967D2;\n",
              "      height: 32px;\n",
              "      padding: 0 0 0 0;\n",
              "      width: 32px;\n",
              "    }\n",
              "\n",
              "    .colab-df-convert:hover {\n",
              "      background-color: #E2EBFA;\n",
              "      box-shadow: 0px 1px 2px rgba(60, 64, 67, 0.3), 0px 1px 3px 1px rgba(60, 64, 67, 0.15);\n",
              "      fill: #174EA6;\n",
              "    }\n",
              "\n",
              "    [theme=dark] .colab-df-convert {\n",
              "      background-color: #3B4455;\n",
              "      fill: #D2E3FC;\n",
              "    }\n",
              "\n",
              "    [theme=dark] .colab-df-convert:hover {\n",
              "      background-color: #434B5C;\n",
              "      box-shadow: 0px 1px 3px 1px rgba(0, 0, 0, 0.15);\n",
              "      filter: drop-shadow(0px 1px 2px rgba(0, 0, 0, 0.3));\n",
              "      fill: #FFFFFF;\n",
              "    }\n",
              "  </style>\n",
              "\n",
              "      <script>\n",
              "        const buttonEl =\n",
              "          document.querySelector('#df-296ba8f2-f46b-44b4-a8e5-ec7822217179 button.colab-df-convert');\n",
              "        buttonEl.style.display =\n",
              "          google.colab.kernel.accessAllowed ? 'block' : 'none';\n",
              "\n",
              "        async function convertToInteractive(key) {\n",
              "          const element = document.querySelector('#df-296ba8f2-f46b-44b4-a8e5-ec7822217179');\n",
              "          const dataTable =\n",
              "            await google.colab.kernel.invokeFunction('convertToInteractive',\n",
              "                                                     [key], {});\n",
              "          if (!dataTable) return;\n",
              "\n",
              "          const docLinkHtml = 'Like what you see? Visit the ' +\n",
              "            '<a target=\"_blank\" href=https://colab.research.google.com/notebooks/data_table.ipynb>data table notebook</a>'\n",
              "            + ' to learn more about interactive tables.';\n",
              "          element.innerHTML = '';\n",
              "          dataTable['output_type'] = 'display_data';\n",
              "          await google.colab.output.renderOutput(dataTable, element);\n",
              "          const docLink = document.createElement('div');\n",
              "          docLink.innerHTML = docLinkHtml;\n",
              "          element.appendChild(docLink);\n",
              "        }\n",
              "      </script>\n",
              "    </div>\n",
              "  </div>\n",
              "  "
            ]
          },
          "metadata": {},
          "execution_count": 33
        }
      ]
    },
    {
      "cell_type": "code",
      "source": [
        "perf_by_state=df.groupby('State').size()\n",
        "plot_by_state=perf_by_state.plot(title=\"Statewise Production\",rot=55)\n",
        "plot_by_state.set_xlabel('State')\n",
        "plot_by_state.set_ylabel('Production')"
      ],
      "metadata": {
        "colab": {
          "base_uri": "https://localhost:8080/",
          "height": 612
        },
        "id": "vp15utVKZeTd",
        "outputId": "3e718bf9-3a54-4e76-e552-913607815b37"
      },
      "execution_count": null,
      "outputs": [
        {
          "output_type": "execute_result",
          "data": {
            "text/plain": [
              "Text(0, 0.5, 'Production')"
            ]
          },
          "metadata": {},
          "execution_count": 34
        },
        {
          "output_type": "display_data",
          "data": {
            "text/plain": [
              "<Figure size 640x480 with 1 Axes>"
            ],
            "image/png": "[encoded data removed]"
          },
          "metadata": {}
        }
      ]
    },
    {
      "cell_type": "code",
      "source": [
        "perf_by_state=df.groupby('Rainfall').median()\n",
        "plot_by_state=perf_by_state.plot(title=\"Rainfall Production\",rot=100)\n",
        "plot_by_state.set_xlabel('Rainfall')\n",
        "plot_by_state.set_ylabel('Production')"
      ],
      "metadata": {
        "colab": {
          "base_uri": "https://localhost:8080/",
          "height": 592
        },
        "id": "9brtCNjTltQ3",
        "outputId": "1c817725-339f-4861-a7b8-d23f52684216"
      },
      "execution_count": null,
      "outputs": [
        {
          "output_type": "stream",
          "name": "stderr",
          "text": [
            "<ipython-input-35-b05e1c2ec413>:1: FutureWarning: The default value of numeric_only in DataFrameGroupBy.median is deprecated. In a future version, numeric_only will default to False. Either specify numeric_only or select only columns which should be valid for the function.\n",
            "  perf_by_state=df.groupby('Rainfall').median()\n"
          ]
        },
        {
          "output_type": "execute_result",
          "data": {
            "text/plain": [
              "Text(0, 0.5, 'Production')"
            ]
          },
          "metadata": {},
          "execution_count": 35
        },
        {
          "output_type": "display_data",
          "data": {
            "text/plain": [
              "<Figure size 640x480 with 1 Axes>"
            ],
            "image/png": "[encoded data removed]"
          },
          "metadata": {}
        }
      ]
    },
    {
      "cell_type": "code",
      "source": [
        "import pandas as pd\n",
        "import matplotlib.pyplot as plt\n",
        "\n",
        "# create a scatter plot\n",
        "df.plot.scatter(x='YEAR', y='Rainfall')\n",
        "\n",
        "# set the x-axis tick locations and labels\n",
        "plt.xticks(range(1997, 2015, 2), [str(year) for year in range(1997, 2015, 2)])\n",
        "plt.yticks(range(20, 150, 10), [str(year) for year in range(20, 150, 10)])\n",
        "\n",
        "# show the plot\n",
        "plt.show()\n",
        "\n"
      ],
      "metadata": {
        "colab": {
          "base_uri": "https://localhost:8080/",
          "height": 449
        },
        "id": "wTSlBeYj8kps",
        "outputId": "5ee59c5c-b669-498b-a0b0-7d827c7bea2b"
      },
      "execution_count": null,
      "outputs": [
        {
          "output_type": "display_data",
          "data": {
            "text/plain": [
              "<Figure size 640x480 with 1 Axes>"
            ],
            "image/png": "[encoded data removed]"
          },
          "metadata": {}
        }
      ]
    },
    {
      "cell_type": "code",
      "source": [
        "import pandas as pd\n",
        "import matplotlib.pyplot as plt\n",
        "\n",
        "# create a scatter plot\n",
        "df.plot.scatter(x='YEAR', y='Production')\n",
        "\n",
        "# set the x-axis tick locations and labels\n",
        "plt.xticks(range(1997, 2015, 2), [str(year) for year in range(1997, 2015, 2)])\n",
        "\n",
        "# show the plot\n",
        "plt.show()\n"
      ],
      "metadata": {
        "colab": {
          "base_uri": "https://localhost:8080/",
          "height": 465
        },
        "id": "H8MVELNBAZco",
        "outputId": "55d9c80f-b946-4924-9f89-c6f9156a8fcc"
      },
      "execution_count": null,
      "outputs": [
        {
          "output_type": "display_data",
          "data": {
            "text/plain": [
              "<Figure size 640x480 with 1 Axes>"
            ],
            "image/png": "[encoded data removed]"
          },
          "metadata": {}
        }
      ]
    },
    {
      "cell_type": "code",
      "source": [],
      "metadata": {
        "id": "rHsz9uwJ9tyU"
      },
      "execution_count": null,
      "outputs": []
    },
    {
      "cell_type": "code",
      "source": [
        "per = lambda x:((0,1)[x > 10000])\n",
        "df['Perf'] = df['Production'].apply(per)"
      ],
      "metadata": {
        "id": "Cw6oAgD3--mq"
      },
      "execution_count": null,
      "outputs": []
    },
    {
      "cell_type": "code",
      "source": [
        "df"
      ],
      "metadata": {
        "colab": {
          "base_uri": "https://localhost:8080/",
          "height": 423
        },
        "id": "YB05fsxhCMjD",
        "outputId": "a1700781-8268-4bb7-8bee-7d39f331302d"
      },
      "execution_count": null,
      "outputs": [
        {
          "output_type": "execute_result",
          "data": {
            "text/plain": [
              "                   State  YEAR       Season             Crop Rainfall  \\\n",
              "0      ARUNACHAL PRADESH  2004  Kharif                 Maize  2545.70   \n",
              "1      ARUNACHAL PRADESH  2004  Kharif                  Rice  2545.70   \n",
              "2      ARUNACHAL PRADESH  2004  Kharif         Small millets  2545.70   \n",
              "3      ARUNACHAL PRADESH  2004  Rabi                   Wheat  2545.70   \n",
              "4      ARUNACHAL PRADESH  2004  Whole Year      Dry chillies  2545.70   \n",
              "...                  ...   ...          ...              ...      ...   \n",
              "61772        UTTARAKHAND  2014  Whole Year             Onion  1287.40   \n",
              "61773        UTTARAKHAND  2014  Whole Year      Pulses total  1287.40   \n",
              "61774        UTTARAKHAND  2014  Whole Year              Rice  1287.40   \n",
              "61775        UTTARAKHAND  2014  Whole Year         Sunflower  1287.40   \n",
              "61776        UTTARAKHAND  2014  Whole Year   Total foodgrain  1287.40   \n",
              "\n",
              "          Area  Production  Perf  \n",
              "0       2453.0      2674.0     0  \n",
              "1       3342.0      1914.0     0  \n",
              "2        532.0       495.0     0  \n",
              "3         30.0        60.0     0  \n",
              "4         13.0        18.0     0  \n",
              "...        ...         ...   ...  \n",
              "61772     26.0       172.0     0  \n",
              "61773   5346.0      4630.0     0  \n",
              "61774   9919.0     16499.0     1  \n",
              "61775      3.0         3.0     0  \n",
              "61776  35417.0     49689.0     1  \n",
              "\n",
              "[61777 rows x 8 columns]"
            ],
            "text/html": [
              "\n",
              "  <div id=\"df-bab398fb-c520-4d4d-93b1-c37ea8e87c8a\">\n",
              "    <div class=\"colab-df-container\">\n",
              "      <div>\n",
              "<style scoped>\n",
              "    .dataframe tbody tr th:only-of-type {\n",
              "        vertical-align: middle;\n",
              "    }\n",
              "\n",
              "    .dataframe tbody tr th {\n",
              "        vertical-align: top;\n",
              "    }\n",
              "\n",
              "    .dataframe thead th {\n",
              "        text-align: right;\n",
              "    }\n",
              "</style>\n",
              "<table border=\"1\" class=\"dataframe\">\n",
              "  <thead>\n",
              "    <tr style=\"text-align: right;\">\n",
              "      <th></th>\n",
              "      <th>State</th>\n",
              "      <th>YEAR</th>\n",
              "      <th>Season</th>\n",
              "      <th>Crop</th>\n",
              "      <th>Rainfall</th>\n",
              "      <th>Area</th>\n",
              "      <th>Production</th>\n",
              "      <th>Perf</th>\n",
              "    </tr>\n",
              "  </thead>\n",
              "  <tbody>\n",
              "    <tr>\n",
              "      <th>0</th>\n",
              "      <td>ARUNACHAL PRADESH</td>\n",
              "      <td>2004</td>\n",
              "      <td>Kharif</td>\n",
              "      <td>Maize</td>\n",
              "      <td>2545.70</td>\n",
              "      <td>2453.0</td>\n",
              "      <td>2674.0</td>\n",
              "      <td>0</td>\n",
              "    </tr>\n",
              "    <tr>\n",
              "      <th>1</th>\n",
              "      <td>ARUNACHAL PRADESH</td>\n",
              "      <td>2004</td>\n",
              "      <td>Kharif</td>\n",
              "      <td>Rice</td>\n",
              "      <td>2545.70</td>\n",
              "      <td>3342.0</td>\n",
              "      <td>1914.0</td>\n",
              "      <td>0</td>\n",
              "    </tr>\n",
              "    <tr>\n",
              "      <th>2</th>\n",
              "      <td>ARUNACHAL PRADESH</td>\n",
              "      <td>2004</td>\n",
              "      <td>Kharif</td>\n",
              "      <td>Small millets</td>\n",
              "      <td>2545.70</td>\n",
              "      <td>532.0</td>\n",
              "      <td>495.0</td>\n",
              "      <td>0</td>\n",
              "    </tr>\n",
              "    <tr>\n",
              "      <th>3</th>\n",
              "      <td>ARUNACHAL PRADESH</td>\n",
              "      <td>2004</td>\n",
              "      <td>Rabi</td>\n",
              "      <td>Wheat</td>\n",
              "      <td>2545.70</td>\n",
              "      <td>30.0</td>\n",
              "      <td>60.0</td>\n",
              "      <td>0</td>\n",
              "    </tr>\n",
              "    <tr>\n",
              "      <th>4</th>\n",
              "      <td>ARUNACHAL PRADESH</td>\n",
              "      <td>2004</td>\n",
              "      <td>Whole Year</td>\n",
              "      <td>Dry chillies</td>\n",
              "      <td>2545.70</td>\n",
              "      <td>13.0</td>\n",
              "      <td>18.0</td>\n",
              "      <td>0</td>\n",
              "    </tr>\n",
              "    <tr>\n",
              "      <th>...</th>\n",
              "      <td>...</td>\n",
              "      <td>...</td>\n",
              "      <td>...</td>\n",
              "      <td>...</td>\n",
              "      <td>...</td>\n",
              "      <td>...</td>\n",
              "      <td>...</td>\n",
              "      <td>...</td>\n",
              "    </tr>\n",
              "    <tr>\n",
              "      <th>61772</th>\n",
              "      <td>UTTARAKHAND</td>\n",
              "      <td>2014</td>\n",
              "      <td>Whole Year</td>\n",
              "      <td>Onion</td>\n",
              "      <td>1287.40</td>\n",
              "      <td>26.0</td>\n",
              "      <td>172.0</td>\n",
              "      <td>0</td>\n",
              "    </tr>\n",
              "    <tr>\n",
              "      <th>61773</th>\n",
              "      <td>UTTARAKHAND</td>\n",
              "      <td>2014</td>\n",
              "      <td>Whole Year</td>\n",
              "      <td>Pulses total</td>\n",
              "      <td>1287.40</td>\n",
              "      <td>5346.0</td>\n",
              "      <td>4630.0</td>\n",
              "      <td>0</td>\n",
              "    </tr>\n",
              "    <tr>\n",
              "      <th>61774</th>\n",
              "      <td>UTTARAKHAND</td>\n",
              "      <td>2014</td>\n",
              "      <td>Whole Year</td>\n",
              "      <td>Rice</td>\n",
              "      <td>1287.40</td>\n",
              "      <td>9919.0</td>\n",
              "      <td>16499.0</td>\n",
              "      <td>1</td>\n",
              "    </tr>\n",
              "    <tr>\n",
              "      <th>61775</th>\n",
              "      <td>UTTARAKHAND</td>\n",
              "      <td>2014</td>\n",
              "      <td>Whole Year</td>\n",
              "      <td>Sunflower</td>\n",
              "      <td>1287.40</td>\n",
              "      <td>3.0</td>\n",
              "      <td>3.0</td>\n",
              "      <td>0</td>\n",
              "    </tr>\n",
              "    <tr>\n",
              "      <th>61776</th>\n",
              "      <td>UTTARAKHAND</td>\n",
              "      <td>2014</td>\n",
              "      <td>Whole Year</td>\n",
              "      <td>Total foodgrain</td>\n",
              "      <td>1287.40</td>\n",
              "      <td>35417.0</td>\n",
              "      <td>49689.0</td>\n",
              "      <td>1</td>\n",
              "    </tr>\n",
              "  </tbody>\n",
              "</table>\n",
              "<p>61777 rows × 8 columns</p>\n",
              "</div>\n",
              "      <button class=\"colab-df-convert\" onclick=\"convertToInteractive('df-bab398fb-c520-4d4d-93b1-c37ea8e87c8a')\"\n",
              "              title=\"Convert this dataframe to an interactive table.\"\n",
              "              style=\"display:none;\">\n",
              "        \n",
              "  <svg xmlns=\"http://www.w3.org/2000/svg\" height=\"24px\"viewBox=\"0 0 24 24\"\n",
              "       width=\"24px\">\n",
              "    <path d=\"M0 0h24v24H0V0z\" fill=\"none\"/>\n",
              "    <path d=\"M18.56 5.44l.94 2.06.94-2.06 2.06-.94-2.06-.94-.94-2.06-.94 2.06-2.06.94zm-11 1L8.5 8.5l.94-2.06 2.06-.94-2.06-.94L8.5 2.5l-.94 2.06-2.06.94zm10 10l.94 2.06.94-2.06 2.06-.94-2.06-.94-.94-2.06-.94 2.06-2.06.94z\"/><path d=\"M17.41 7.96l-1.37-1.37c-.4-.4-.92-.59-1.43-.59-.52 0-1.04.2-1.43.59L10.3 9.45l-7.72 7.72c-.78.78-.78 2.05 0 2.83L4 21.41c.39.39.9.59 1.41.59.51 0 1.02-.2 1.41-.59l7.78-7.78 2.81-2.81c.8-.78.8-2.07 0-2.86zM5.41 20L4 18.59l7.72-7.72 1.47 1.35L5.41 20z\"/>\n",
              "  </svg>\n",
              "      </button>\n",
              "      \n",
              "  <style>\n",
              "    .colab-df-container {\n",
              "      display:flex;\n",
              "      flex-wrap:wrap;\n",
              "      gap: 12px;\n",
              "    }\n",
              "\n",
              "    .colab-df-convert {\n",
              "      background-color: #E8F0FE;\n",
              "      border: none;\n",
              "      border-radius: 50%;\n",
              "      cursor: pointer;\n",
              "      display: none;\n",
              "      fill: #1967D2;\n",
              "      height: 32px;\n",
              "      padding: 0 0 0 0;\n",
              "      width: 32px;\n",
              "    }\n",
              "\n",
              "    .colab-df-convert:hover {\n",
              "      background-color: #E2EBFA;\n",
              "      box-shadow: 0px 1px 2px rgba(60, 64, 67, 0.3), 0px 1px 3px 1px rgba(60, 64, 67, 0.15);\n",
              "      fill: #174EA6;\n",
              "    }\n",
              "\n",
              "    [theme=dark] .colab-df-convert {\n",
              "      background-color: #3B4455;\n",
              "      fill: #D2E3FC;\n",
              "    }\n",
              "\n",
              "    [theme=dark] .colab-df-convert:hover {\n",
              "      background-color: #434B5C;\n",
              "      box-shadow: 0px 1px 3px 1px rgba(0, 0, 0, 0.15);\n",
              "      filter: drop-shadow(0px 1px 2px rgba(0, 0, 0, 0.3));\n",
              "      fill: #FFFFFF;\n",
              "    }\n",
              "  </style>\n",
              "\n",
              "      <script>\n",
              "        const buttonEl =\n",
              "          document.querySelector('#df-bab398fb-c520-4d4d-93b1-c37ea8e87c8a button.colab-df-convert');\n",
              "        buttonEl.style.display =\n",
              "          google.colab.kernel.accessAllowed ? 'block' : 'none';\n",
              "\n",
              "        async function convertToInteractive(key) {\n",
              "          const element = document.querySelector('#df-bab398fb-c520-4d4d-93b1-c37ea8e87c8a');\n",
              "          const dataTable =\n",
              "            await google.colab.kernel.invokeFunction('convertToInteractive',\n",
              "                                                     [key], {});\n",
              "          if (!dataTable) return;\n",
              "\n",
              "          const docLinkHtml = 'Like what you see? Visit the ' +\n",
              "            '<a target=\"_blank\" href=https://colab.research.google.com/notebooks/data_table.ipynb>data table notebook</a>'\n",
              "            + ' to learn more about interactive tables.';\n",
              "          element.innerHTML = '';\n",
              "          dataTable['output_type'] = 'display_data';\n",
              "          await google.colab.output.renderOutput(dataTable, element);\n",
              "          const docLink = document.createElement('div');\n",
              "          docLink.innerHTML = docLinkHtml;\n",
              "          element.appendChild(docLink);\n",
              "        }\n",
              "      </script>\n",
              "    </div>\n",
              "  </div>\n",
              "  "
            ]
          },
          "metadata": {},
          "execution_count": 39
        }
      ]
    },
    {
      "cell_type": "code",
      "source": [
        "df.isnull().sum()"
      ],
      "metadata": {
        "colab": {
          "base_uri": "https://localhost:8080/"
        },
        "id": "KhOlfSTLCNzR",
        "outputId": "ce8b7db5-d97f-4e35-c979-1f6a96efb4ad"
      },
      "execution_count": null,
      "outputs": [
        {
          "output_type": "execute_result",
          "data": {
            "text/plain": [
              "State            0\n",
              "YEAR             0\n",
              "Season           0\n",
              "Crop             0\n",
              "Rainfall         0\n",
              "Area             0\n",
              "Production    1031\n",
              "Perf             0\n",
              "dtype: int64"
            ]
          },
          "metadata": {},
          "execution_count": 40
        }
      ]
    },
    {
      "cell_type": "code",
      "source": [
        "df_updated = df.dropna()"
      ],
      "metadata": {
        "id": "gjMnO1KqCWYH"
      },
      "execution_count": null,
      "outputs": []
    },
    {
      "cell_type": "code",
      "source": [
        "df_updated.isnull().sum()"
      ],
      "metadata": {
        "colab": {
          "base_uri": "https://localhost:8080/"
        },
        "id": "nlUqD15uCr7B",
        "outputId": "162a763b-9bf2-480c-c297-785aaacf4616"
      },
      "execution_count": null,
      "outputs": [
        {
          "output_type": "execute_result",
          "data": {
            "text/plain": [
              "State         0\n",
              "YEAR          0\n",
              "Season        0\n",
              "Crop          0\n",
              "Rainfall      0\n",
              "Area          0\n",
              "Production    0\n",
              "Perf          0\n",
              "dtype: int64"
            ]
          },
          "metadata": {},
          "execution_count": 42
        }
      ]
    },
    {
      "cell_type": "code",
      "source": [
        "perf_by_state=df_updated.groupby('Season').size()\n",
        "plot_by_state=perf_by_state.plot(title=\"Rainfall Production\",rot=100)\n",
        "plot_by_state.set_xlabel('Season')\n",
        "plot_by_state.set_ylabel('Rainfall')\n"
      ],
      "metadata": {
        "colab": {
          "base_uri": "https://localhost:8080/",
          "height": 558
        },
        "id": "2IAd5iz8Cwm0",
        "outputId": "d38ef53b-6337-45bc-9930-71abbc101401"
      },
      "execution_count": null,
      "outputs": [
        {
          "output_type": "execute_result",
          "data": {
            "text/plain": [
              "Text(0, 0.5, 'Rainfall')"
            ]
          },
          "metadata": {},
          "execution_count": 43
        },
        {
          "output_type": "display_data",
          "data": {
            "text/plain": [
              "<Figure size 640x480 with 1 Axes>"
            ],
            "image/png": "[encoded data removed]"
          },
          "metadata": {}
        }
      ]
    },
    {
      "cell_type": "code",
      "source": [
        "rice_data = df[df['Crop']=='Rice']\n",
        "plt.scatter(rice_data['Season'],rice_data['Production'])"
      ],
      "metadata": {
        "colab": {
          "base_uri": "https://localhost:8080/",
          "height": 463
        },
        "id": "RBds_KA7DAiB",
        "outputId": "ef80478e-4f43-4aee-864e-138b285ae180"
      },
      "execution_count": null,
      "outputs": [
        {
          "output_type": "execute_result",
          "data": {
            "text/plain": [
              "<matplotlib.collections.PathCollection at 0x7f6dd2c67490>"
            ]
          },
          "metadata": {},
          "execution_count": 44
        },
        {
          "output_type": "display_data",
          "data": {
            "text/plain": [
              "<Figure size 640x480 with 1 Axes>"
            ],
            "image/png": "[encoded data removed]"
          },
          "metadata": {}
        }
      ]
    },
    {
      "cell_type": "code",
      "source": [
        "df_updated"
      ],
      "metadata": {
        "colab": {
          "base_uri": "https://localhost:8080/",
          "height": 423
        },
        "id": "NSBI80zrI9Qz",
        "outputId": "b6cdbe7a-a4ef-4050-b875-920e979b5471"
      },
      "execution_count": null,
      "outputs": [
        {
          "output_type": "execute_result",
          "data": {
            "text/plain": [
              "                   State  YEAR       Season             Crop Rainfall  \\\n",
              "0      ARUNACHAL PRADESH  2004  Kharif                 Maize  2545.70   \n",
              "1      ARUNACHAL PRADESH  2004  Kharif                  Rice  2545.70   \n",
              "2      ARUNACHAL PRADESH  2004  Kharif         Small millets  2545.70   \n",
              "3      ARUNACHAL PRADESH  2004  Rabi                   Wheat  2545.70   \n",
              "4      ARUNACHAL PRADESH  2004  Whole Year      Dry chillies  2545.70   \n",
              "...                  ...   ...          ...              ...      ...   \n",
              "61772        UTTARAKHAND  2014  Whole Year             Onion  1287.40   \n",
              "61773        UTTARAKHAND  2014  Whole Year      Pulses total  1287.40   \n",
              "61774        UTTARAKHAND  2014  Whole Year              Rice  1287.40   \n",
              "61775        UTTARAKHAND  2014  Whole Year         Sunflower  1287.40   \n",
              "61776        UTTARAKHAND  2014  Whole Year   Total foodgrain  1287.40   \n",
              "\n",
              "          Area  Production  Perf  \n",
              "0       2453.0      2674.0     0  \n",
              "1       3342.0      1914.0     0  \n",
              "2        532.0       495.0     0  \n",
              "3         30.0        60.0     0  \n",
              "4         13.0        18.0     0  \n",
              "...        ...         ...   ...  \n",
              "61772     26.0       172.0     0  \n",
              "61773   5346.0      4630.0     0  \n",
              "61774   9919.0     16499.0     1  \n",
              "61775      3.0         3.0     0  \n",
              "61776  35417.0     49689.0     1  \n",
              "\n",
              "[60746 rows x 8 columns]"
            ],
            "text/html": [
              "\n",
              "  <div id=\"df-d98e6bc6-e9f2-47a0-9e24-fd97405ba14c\">\n",
              "    <div class=\"colab-df-container\">\n",
              "      <div>\n",
              "<style scoped>\n",
              "    .dataframe tbody tr th:only-of-type {\n",
              "        vertical-align: middle;\n",
              "    }\n",
              "\n",
              "    .dataframe tbody tr th {\n",
              "        vertical-align: top;\n",
              "    }\n",
              "\n",
              "    .dataframe thead th {\n",
              "        text-align: right;\n",
              "    }\n",
              "</style>\n",
              "<table border=\"1\" class=\"dataframe\">\n",
              "  <thead>\n",
              "    <tr style=\"text-align: right;\">\n",
              "      <th></th>\n",
              "      <th>State</th>\n",
              "      <th>YEAR</th>\n",
              "      <th>Season</th>\n",
              "      <th>Crop</th>\n",
              "      <th>Rainfall</th>\n",
              "      <th>Area</th>\n",
              "      <th>Production</th>\n",
              "      <th>Perf</th>\n",
              "    </tr>\n",
              "  </thead>\n",
              "  <tbody>\n",
              "    <tr>\n",
              "      <th>0</th>\n",
              "      <td>ARUNACHAL PRADESH</td>\n",
              "      <td>2004</td>\n",
              "      <td>Kharif</td>\n",
              "      <td>Maize</td>\n",
              "      <td>2545.70</td>\n",
              "      <td>2453.0</td>\n",
              "      <td>2674.0</td>\n",
              "      <td>0</td>\n",
              "    </tr>\n",
              "    <tr>\n",
              "      <th>1</th>\n",
              "      <td>ARUNACHAL PRADESH</td>\n",
              "      <td>2004</td>\n",
              "      <td>Kharif</td>\n",
              "      <td>Rice</td>\n",
              "      <td>2545.70</td>\n",
              "      <td>3342.0</td>\n",
              "      <td>1914.0</td>\n",
              "      <td>0</td>\n",
              "    </tr>\n",
              "    <tr>\n",
              "      <th>2</th>\n",
              "      <td>ARUNACHAL PRADESH</td>\n",
              "      <td>2004</td>\n",
              "      <td>Kharif</td>\n",
              "      <td>Small millets</td>\n",
              "      <td>2545.70</td>\n",
              "      <td>532.0</td>\n",
              "      <td>495.0</td>\n",
              "      <td>0</td>\n",
              "    </tr>\n",
              "    <tr>\n",
              "      <th>3</th>\n",
              "      <td>ARUNACHAL PRADESH</td>\n",
              "      <td>2004</td>\n",
              "      <td>Rabi</td>\n",
              "      <td>Wheat</td>\n",
              "      <td>2545.70</td>\n",
              "      <td>30.0</td>\n",
              "      <td>60.0</td>\n",
              "      <td>0</td>\n",
              "    </tr>\n",
              "    <tr>\n",
              "      <th>4</th>\n",
              "      <td>ARUNACHAL PRADESH</td>\n",
              "      <td>2004</td>\n",
              "      <td>Whole Year</td>\n",
              "      <td>Dry chillies</td>\n",
              "      <td>2545.70</td>\n",
              "      <td>13.0</td>\n",
              "      <td>18.0</td>\n",
              "      <td>0</td>\n",
              "    </tr>\n",
              "    <tr>\n",
              "      <th>...</th>\n",
              "      <td>...</td>\n",
              "      <td>...</td>\n",
              "      <td>...</td>\n",
              "      <td>...</td>\n",
              "      <td>...</td>\n",
              "      <td>...</td>\n",
              "      <td>...</td>\n",
              "      <td>...</td>\n",
              "    </tr>\n",
              "    <tr>\n",
              "      <th>61772</th>\n",
              "      <td>UTTARAKHAND</td>\n",
              "      <td>2014</td>\n",
              "      <td>Whole Year</td>\n",
              "      <td>Onion</td>\n",
              "      <td>1287.40</td>\n",
              "      <td>26.0</td>\n",
              "      <td>172.0</td>\n",
              "      <td>0</td>\n",
              "    </tr>\n",
              "    <tr>\n",
              "      <th>61773</th>\n",
              "      <td>UTTARAKHAND</td>\n",
              "      <td>2014</td>\n",
              "      <td>Whole Year</td>\n",
              "      <td>Pulses total</td>\n",
              "      <td>1287.40</td>\n",
              "      <td>5346.0</td>\n",
              "      <td>4630.0</td>\n",
              "      <td>0</td>\n",
              "    </tr>\n",
              "    <tr>\n",
              "      <th>61774</th>\n",
              "      <td>UTTARAKHAND</td>\n",
              "      <td>2014</td>\n",
              "      <td>Whole Year</td>\n",
              "      <td>Rice</td>\n",
              "      <td>1287.40</td>\n",
              "      <td>9919.0</td>\n",
              "      <td>16499.0</td>\n",
              "      <td>1</td>\n",
              "    </tr>\n",
              "    <tr>\n",
              "      <th>61775</th>\n",
              "      <td>UTTARAKHAND</td>\n",
              "      <td>2014</td>\n",
              "      <td>Whole Year</td>\n",
              "      <td>Sunflower</td>\n",
              "      <td>1287.40</td>\n",
              "      <td>3.0</td>\n",
              "      <td>3.0</td>\n",
              "      <td>0</td>\n",
              "    </tr>\n",
              "    <tr>\n",
              "      <th>61776</th>\n",
              "      <td>UTTARAKHAND</td>\n",
              "      <td>2014</td>\n",
              "      <td>Whole Year</td>\n",
              "      <td>Total foodgrain</td>\n",
              "      <td>1287.40</td>\n",
              "      <td>35417.0</td>\n",
              "      <td>49689.0</td>\n",
              "      <td>1</td>\n",
              "    </tr>\n",
              "  </tbody>\n",
              "</table>\n",
              "<p>60746 rows × 8 columns</p>\n",
              "</div>\n",
              "      <button class=\"colab-df-convert\" onclick=\"convertToInteractive('df-d98e6bc6-e9f2-47a0-9e24-fd97405ba14c')\"\n",
              "              title=\"Convert this dataframe to an interactive table.\"\n",
              "              style=\"display:none;\">\n",
              "        \n",
              "  <svg xmlns=\"http://www.w3.org/2000/svg\" height=\"24px\"viewBox=\"0 0 24 24\"\n",
              "       width=\"24px\">\n",
              "    <path d=\"M0 0h24v24H0V0z\" fill=\"none\"/>\n",
              "    <path d=\"M18.56 5.44l.94 2.06.94-2.06 2.06-.94-2.06-.94-.94-2.06-.94 2.06-2.06.94zm-11 1L8.5 8.5l.94-2.06 2.06-.94-2.06-.94L8.5 2.5l-.94 2.06-2.06.94zm10 10l.94 2.06.94-2.06 2.06-.94-2.06-.94-.94-2.06-.94 2.06-2.06.94z\"/><path d=\"M17.41 7.96l-1.37-1.37c-.4-.4-.92-.59-1.43-.59-.52 0-1.04.2-1.43.59L10.3 9.45l-7.72 7.72c-.78.78-.78 2.05 0 2.83L4 21.41c.39.39.9.59 1.41.59.51 0 1.02-.2 1.41-.59l7.78-7.78 2.81-2.81c.8-.78.8-2.07 0-2.86zM5.41 20L4 18.59l7.72-7.72 1.47 1.35L5.41 20z\"/>\n",
              "  </svg>\n",
              "      </button>\n",
              "      \n",
              "  <style>\n",
              "    .colab-df-container {\n",
              "      display:flex;\n",
              "      flex-wrap:wrap;\n",
              "      gap: 12px;\n",
              "    }\n",
              "\n",
              "    .colab-df-convert {\n",
              "      background-color: #E8F0FE;\n",
              "      border: none;\n",
              "      border-radius: 50%;\n",
              "      cursor: pointer;\n",
              "      display: none;\n",
              "      fill: #1967D2;\n",
              "      height: 32px;\n",
              "      padding: 0 0 0 0;\n",
              "      width: 32px;\n",
              "    }\n",
              "\n",
              "    .colab-df-convert:hover {\n",
              "      background-color: #E2EBFA;\n",
              "      box-shadow: 0px 1px 2px rgba(60, 64, 67, 0.3), 0px 1px 3px 1px rgba(60, 64, 67, 0.15);\n",
              "      fill: #174EA6;\n",
              "    }\n",
              "\n",
              "    [theme=dark] .colab-df-convert {\n",
              "      background-color: #3B4455;\n",
              "      fill: #D2E3FC;\n",
              "    }\n",
              "\n",
              "    [theme=dark] .colab-df-convert:hover {\n",
              "      background-color: #434B5C;\n",
              "      box-shadow: 0px 1px 3px 1px rgba(0, 0, 0, 0.15);\n",
              "      filter: drop-shadow(0px 1px 2px rgba(0, 0, 0, 0.3));\n",
              "      fill: #FFFFFF;\n",
              "    }\n",
              "  </style>\n",
              "\n",
              "      <script>\n",
              "        const buttonEl =\n",
              "          document.querySelector('#df-d98e6bc6-e9f2-47a0-9e24-fd97405ba14c button.colab-df-convert');\n",
              "        buttonEl.style.display =\n",
              "          google.colab.kernel.accessAllowed ? 'block' : 'none';\n",
              "\n",
              "        async function convertToInteractive(key) {\n",
              "          const element = document.querySelector('#df-d98e6bc6-e9f2-47a0-9e24-fd97405ba14c');\n",
              "          const dataTable =\n",
              "            await google.colab.kernel.invokeFunction('convertToInteractive',\n",
              "                                                     [key], {});\n",
              "          if (!dataTable) return;\n",
              "\n",
              "          const docLinkHtml = 'Like what you see? Visit the ' +\n",
              "            '<a target=\"_blank\" href=https://colab.research.google.com/notebooks/data_table.ipynb>data table notebook</a>'\n",
              "            + ' to learn more about interactive tables.';\n",
              "          element.innerHTML = '';\n",
              "          dataTable['output_type'] = 'display_data';\n",
              "          await google.colab.output.renderOutput(dataTable, element);\n",
              "          const docLink = document.createElement('div');\n",
              "          docLink.innerHTML = docLinkHtml;\n",
              "          element.appendChild(docLink);\n",
              "        }\n",
              "      </script>\n",
              "    </div>\n",
              "  </div>\n",
              "  "
            ]
          },
          "metadata": {},
          "execution_count": 45
        }
      ]
    },
    {
      "cell_type": "code",
      "source": [
        "import matplotlib.pyplot as plt\n",
        "import seaborn as sns\n",
        "corr = df_updated.corr()\n",
        "plt.subplots(figsize=(7.5,7.5))\n",
        "ax = sns.heatmap(corr, vmin=-1, vmax=1, center=0,cmap=sns.diverging_palette(20, 220, n=200),square=True)\n",
        "ax.set_xticklabels(ax.get_xticklabels(),rotation=45,horizontalalignment='right')"
      ],
      "metadata": {
        "colab": {
          "base_uri": "https://localhost:8080/",
          "height": 764
        },
        "id": "vChU4G03GgAT",
        "outputId": "831d2702-b7b9-4dfb-9c91-e0d7689b318e"
      },
      "execution_count": null,
      "outputs": [
        {
          "output_type": "stream",
          "name": "stderr",
          "text": [
            "<ipython-input-46-4a29920087ae>:3: FutureWarning: The default value of numeric_only in DataFrame.corr is deprecated. In a future version, it will default to False. Select only valid columns or specify the value of numeric_only to silence this warning.\n",
            "  corr = df_updated.corr()\n"
          ]
        },
        {
          "output_type": "execute_result",
          "data": {
            "text/plain": [
              "[Text(0.5, 0, 'YEAR'),\n",
              " Text(1.5, 0, 'Area'),\n",
              " Text(2.5, 0, 'Production'),\n",
              " Text(3.5, 0, 'Perf')]"
            ]
          },
          "metadata": {},
          "execution_count": 46
        },
        {
          "output_type": "display_data",
          "data": {
            "text/plain": [
              "<Figure size 750x750 with 2 Axes>"
            ],
            "image/png": "[encoded data removed]"
          },
          "metadata": {}
        }
      ]
    },
    {
      "cell_type": "code",
      "source": [
        "import matplotlib.pyplot as plt\n",
        "from pyspark.sql.functions import col\n",
        "\n",
        "# select the columns to plot\n",
        "x = df_avg_by_state_pd[\"State\"]\n",
        "y= df_avg_by_state_pd[\"avg_rainfall\"]\n",
        "#y = df.select(col(\"Production\")).collect()\n",
        "\n",
        "# create a plot\n",
        "plt.bar(x, y)\n",
        "\n",
        "# add axis labels and a title\n",
        "#plt.xticks(range(1997, 2015, 2), [str(year) for year in range(1997, 2015, 2)])\n",
        "plt.xlabel(\"State\")\n",
        "plt.ylabel(\"Production\")\n",
        "plt.title(\"State vs. Production\")\n",
        "plt.xticks(rotation=90)\n",
        "# show the plot\n",
        "plt.show()"
      ],
      "metadata": {
        "colab": {
          "base_uri": "https://localhost:8080/",
          "height": 614
        },
        "id": "z97oKzB3G3Pu",
        "outputId": "6b9cd8e9-1cdd-4cef-97b9-800c1a37a826"
      },
      "execution_count": null,
      "outputs": [
        {
          "output_type": "display_data",
          "data": {
            "text/plain": [
              "<Figure size 640x480 with 1 Axes>"
            ],
            "image/png": "[encoded data removed]"
          },
          "metadata": {}
        }
      ]
    },
    {
      "cell_type": "code",
      "source": [
        "import pandas as pd\n",
        "\n",
        "# Load CSV file into DataFrame\n",
        "df_c = pd.read_csv('crop.csv')\n",
        "\n",
        "# Replace missing values with a default value\n",
        "df_c.dropna()\n",
        "\n",
        "# Save DataFrame back to CSV file\n",
        "df_c.to_csv('crop_drop.csv', index=False)\n"
      ],
      "metadata": {
        "id": "Rvgvyg2qhkn_"
      },
      "execution_count": null,
      "outputs": []
    },
    {
      "cell_type": "code",
      "source": [
        "import matplotlib.pyplot as plt\n",
        "from pyspark.sql.functions import col\n",
        "\n",
        "# select the columns to plot\n",
        "x = df_avg_by_season_pd[\"Season\"]\n",
        "y= df_avg_by_season_pd[\"avg_production\"]\n",
        "#y = df.select(col(\"Production\")).collect()\n",
        "\n",
        "# create a plot\n",
        "plt.bar(x, y)\n",
        "\n",
        "# add axis labels and a title\n",
        "#plt.xticks(range(1997, 2015, 2), [str(year) for year in range(1997, 2015, 2)])\n",
        "plt.xlabel(\"Season\")\n",
        "plt.ylabel(\"Production\")\n",
        "plt.title(\"Season vs. Production\")\n",
        "plt.xticks(rotation=90)\n",
        "# show the plot\n",
        "plt.show()"
      ],
      "metadata": {
        "colab": {
          "base_uri": "https://localhost:8080/",
          "height": 539
        },
        "id": "ZhGOyUr750zH",
        "outputId": "6fcc8d07-1da3-49ab-87e4-d0f2a72b0202"
      },
      "execution_count": null,
      "outputs": [
        {
          "output_type": "display_data",
          "data": {
            "text/plain": [
              "<Figure size 640x480 with 1 Axes>"
            ],
            "image/png": "[encoded data removed]"
          },
          "metadata": {}
        }
      ]
    },
    {
      "cell_type": "code",
      "source": [
        "plt.hist(y)"
      ],
      "metadata": {
        "colab": {
          "base_uri": "https://localhost:8080/",
          "height": 557
        },
        "id": "caFH29uG06xr",
        "outputId": "51aea43a-5601-4554-906c-361d0715ccec"
      },
      "execution_count": null,
      "outputs": [
        {
          "output_type": "execute_result",
          "data": {
            "text/plain": [
              "(array([5., 0., 0., 0., 0., 0., 0., 0., 0., 1.]),\n",
              " array([   9571.4129341 ,  557031.12460245, 1104490.83627079,\n",
              "        1651950.54793914, 2199410.25960748, 2746869.97127583,\n",
              "        3294329.68294417, 3841789.39461252, 4389249.10628086,\n",
              "        4936708.81794921, 5484168.52961755]),\n",
              " <BarContainer object of 10 artists>)"
            ]
          },
          "metadata": {},
          "execution_count": 50
        },
        {
          "output_type": "display_data",
          "data": {
            "text/plain": [
              "<Figure size 640x480 with 1 Axes>"
            ],
            "image/png": "[encoded data removed]"
          },
          "metadata": {}
        }
      ]
    },
    {
      "cell_type": "code",
      "source": [
        "import matplotlib.pyplot as plt\n",
        "from pyspark.sql.functions import col\n",
        "\n",
        "# select the columns to plot\n",
        "x = df_avg_by_season_pd[\"Season\"]\n",
        "y= df_avg_by_season_pd[\"avg_rainfall\"]\n",
        "#y = df.select(col(\"Production\")).collect()\n",
        "\n",
        "# create a plot\n",
        "plt.bar(x, y, color = 'green')\n",
        "\n",
        "# add axis labels and a title\n",
        "#plt.xticks(range(1997, 2015, 2), [str(year) for year in range(1997, 2015, 2)])\n",
        "plt.xlabel(\"Season\")\n",
        "plt.ylabel(\"Rainfall\")\n",
        "plt.title(\"Season vs. Rainfall\")\n",
        "plt.xticks(rotation=90)\n",
        "# show the plot\n",
        "plt.show()"
      ],
      "metadata": {
        "colab": {
          "base_uri": "https://localhost:8080/",
          "height": 539
        },
        "id": "urdbjCCTBVUP",
        "outputId": "9081a812-1602-412b-f612-22883042ac56"
      },
      "execution_count": null,
      "outputs": [
        {
          "output_type": "display_data",
          "data": {
            "text/plain": [
              "<Figure size 640x480 with 1 Axes>"
            ],
            "image/png": "[encoded data removed]"
          },
          "metadata": {}
        }
      ]
    },
    {
      "cell_type": "code",
      "source": [
        "df\n"
      ],
      "metadata": {
        "colab": {
          "base_uri": "https://localhost:8080/",
          "height": 423
        },
        "id": "a-AXAYLVvrYY",
        "outputId": "0d6a6d2d-62ac-4f36-e233-4f7858039d14"
      },
      "execution_count": null,
      "outputs": [
        {
          "output_type": "execute_result",
          "data": {
            "text/plain": [
              "                   State  YEAR       Season             Crop Rainfall  \\\n",
              "0      ARUNACHAL PRADESH  2004  Kharif                 Maize  2545.70   \n",
              "1      ARUNACHAL PRADESH  2004  Kharif                  Rice  2545.70   \n",
              "2      ARUNACHAL PRADESH  2004  Kharif         Small millets  2545.70   \n",
              "3      ARUNACHAL PRADESH  2004  Rabi                   Wheat  2545.70   \n",
              "4      ARUNACHAL PRADESH  2004  Whole Year      Dry chillies  2545.70   \n",
              "...                  ...   ...          ...              ...      ...   \n",
              "61772        UTTARAKHAND  2014  Whole Year             Onion  1287.40   \n",
              "61773        UTTARAKHAND  2014  Whole Year      Pulses total  1287.40   \n",
              "61774        UTTARAKHAND  2014  Whole Year              Rice  1287.40   \n",
              "61775        UTTARAKHAND  2014  Whole Year         Sunflower  1287.40   \n",
              "61776        UTTARAKHAND  2014  Whole Year   Total foodgrain  1287.40   \n",
              "\n",
              "          Area  Production  Perf  \n",
              "0       2453.0      2674.0     0  \n",
              "1       3342.0      1914.0     0  \n",
              "2        532.0       495.0     0  \n",
              "3         30.0        60.0     0  \n",
              "4         13.0        18.0     0  \n",
              "...        ...         ...   ...  \n",
              "61772     26.0       172.0     0  \n",
              "61773   5346.0      4630.0     0  \n",
              "61774   9919.0     16499.0     1  \n",
              "61775      3.0         3.0     0  \n",
              "61776  35417.0     49689.0     1  \n",
              "\n",
              "[61777 rows x 8 columns]"
            ],
            "text/html": [
              "\n",
              "  <div id=\"df-45976f62-3c26-444f-a506-bb5aca84e05c\">\n",
              "    <div class=\"colab-df-container\">\n",
              "      <div>\n",
              "<style scoped>\n",
              "    .dataframe tbody tr th:only-of-type {\n",
              "        vertical-align: middle;\n",
              "    }\n",
              "\n",
              "    .dataframe tbody tr th {\n",
              "        vertical-align: top;\n",
              "    }\n",
              "\n",
              "    .dataframe thead th {\n",
              "        text-align: right;\n",
              "    }\n",
              "</style>\n",
              "<table border=\"1\" class=\"dataframe\">\n",
              "  <thead>\n",
              "    <tr style=\"text-align: right;\">\n",
              "      <th></th>\n",
              "      <th>State</th>\n",
              "      <th>YEAR</th>\n",
              "      <th>Season</th>\n",
              "      <th>Crop</th>\n",
              "      <th>Rainfall</th>\n",
              "      <th>Area</th>\n",
              "      <th>Production</th>\n",
              "      <th>Perf</th>\n",
              "    </tr>\n",
              "  </thead>\n",
              "  <tbody>\n",
              "    <tr>\n",
              "      <th>0</th>\n",
              "      <td>ARUNACHAL PRADESH</td>\n",
              "      <td>2004</td>\n",
              "      <td>Kharif</td>\n",
              "      <td>Maize</td>\n",
              "      <td>2545.70</td>\n",
              "      <td>2453.0</td>\n",
              "      <td>2674.0</td>\n",
              "      <td>0</td>\n",
              "    </tr>\n",
              "    <tr>\n",
              "      <th>1</th>\n",
              "      <td>ARUNACHAL PRADESH</td>\n",
              "      <td>2004</td>\n",
              "      <td>Kharif</td>\n",
              "      <td>Rice</td>\n",
              "      <td>2545.70</td>\n",
              "      <td>3342.0</td>\n",
              "      <td>1914.0</td>\n",
              "      <td>0</td>\n",
              "    </tr>\n",
              "    <tr>\n",
              "      <th>2</th>\n",
              "      <td>ARUNACHAL PRADESH</td>\n",
              "      <td>2004</td>\n",
              "      <td>Kharif</td>\n",
              "      <td>Small millets</td>\n",
              "      <td>2545.70</td>\n",
              "      <td>532.0</td>\n",
              "      <td>495.0</td>\n",
              "      <td>0</td>\n",
              "    </tr>\n",
              "    <tr>\n",
              "      <th>3</th>\n",
              "      <td>ARUNACHAL PRADESH</td>\n",
              "      <td>2004</td>\n",
              "      <td>Rabi</td>\n",
              "      <td>Wheat</td>\n",
              "      <td>2545.70</td>\n",
              "      <td>30.0</td>\n",
              "      <td>60.0</td>\n",
              "      <td>0</td>\n",
              "    </tr>\n",
              "    <tr>\n",
              "      <th>4</th>\n",
              "      <td>ARUNACHAL PRADESH</td>\n",
              "      <td>2004</td>\n",
              "      <td>Whole Year</td>\n",
              "      <td>Dry chillies</td>\n",
              "      <td>2545.70</td>\n",
              "      <td>13.0</td>\n",
              "      <td>18.0</td>\n",
              "      <td>0</td>\n",
              "    </tr>\n",
              "    <tr>\n",
              "      <th>...</th>\n",
              "      <td>...</td>\n",
              "      <td>...</td>\n",
              "      <td>...</td>\n",
              "      <td>...</td>\n",
              "      <td>...</td>\n",
              "      <td>...</td>\n",
              "      <td>...</td>\n",
              "      <td>...</td>\n",
              "    </tr>\n",
              "    <tr>\n",
              "      <th>61772</th>\n",
              "      <td>UTTARAKHAND</td>\n",
              "      <td>2014</td>\n",
              "      <td>Whole Year</td>\n",
              "      <td>Onion</td>\n",
              "      <td>1287.40</td>\n",
              "      <td>26.0</td>\n",
              "      <td>172.0</td>\n",
              "      <td>0</td>\n",
              "    </tr>\n",
              "    <tr>\n",
              "      <th>61773</th>\n",
              "      <td>UTTARAKHAND</td>\n",
              "      <td>2014</td>\n",
              "      <td>Whole Year</td>\n",
              "      <td>Pulses total</td>\n",
              "      <td>1287.40</td>\n",
              "      <td>5346.0</td>\n",
              "      <td>4630.0</td>\n",
              "      <td>0</td>\n",
              "    </tr>\n",
              "    <tr>\n",
              "      <th>61774</th>\n",
              "      <td>UTTARAKHAND</td>\n",
              "      <td>2014</td>\n",
              "      <td>Whole Year</td>\n",
              "      <td>Rice</td>\n",
              "      <td>1287.40</td>\n",
              "      <td>9919.0</td>\n",
              "      <td>16499.0</td>\n",
              "      <td>1</td>\n",
              "    </tr>\n",
              "    <tr>\n",
              "      <th>61775</th>\n",
              "      <td>UTTARAKHAND</td>\n",
              "      <td>2014</td>\n",
              "      <td>Whole Year</td>\n",
              "      <td>Sunflower</td>\n",
              "      <td>1287.40</td>\n",
              "      <td>3.0</td>\n",
              "      <td>3.0</td>\n",
              "      <td>0</td>\n",
              "    </tr>\n",
              "    <tr>\n",
              "      <th>61776</th>\n",
              "      <td>UTTARAKHAND</td>\n",
              "      <td>2014</td>\n",
              "      <td>Whole Year</td>\n",
              "      <td>Total foodgrain</td>\n",
              "      <td>1287.40</td>\n",
              "      <td>35417.0</td>\n",
              "      <td>49689.0</td>\n",
              "      <td>1</td>\n",
              "    </tr>\n",
              "  </tbody>\n",
              "</table>\n",
              "<p>61777 rows × 8 columns</p>\n",
              "</div>\n",
              "      <button class=\"colab-df-convert\" onclick=\"convertToInteractive('df-45976f62-3c26-444f-a506-bb5aca84e05c')\"\n",
              "              title=\"Convert this dataframe to an interactive table.\"\n",
              "              style=\"display:none;\">\n",
              "        \n",
              "  <svg xmlns=\"http://www.w3.org/2000/svg\" height=\"24px\"viewBox=\"0 0 24 24\"\n",
              "       width=\"24px\">\n",
              "    <path d=\"M0 0h24v24H0V0z\" fill=\"none\"/>\n",
              "    <path d=\"M18.56 5.44l.94 2.06.94-2.06 2.06-.94-2.06-.94-.94-2.06-.94 2.06-2.06.94zm-11 1L8.5 8.5l.94-2.06 2.06-.94-2.06-.94L8.5 2.5l-.94 2.06-2.06.94zm10 10l.94 2.06.94-2.06 2.06-.94-2.06-.94-.94-2.06-.94 2.06-2.06.94z\"/><path d=\"M17.41 7.96l-1.37-1.37c-.4-.4-.92-.59-1.43-.59-.52 0-1.04.2-1.43.59L10.3 9.45l-7.72 7.72c-.78.78-.78 2.05 0 2.83L4 21.41c.39.39.9.59 1.41.59.51 0 1.02-.2 1.41-.59l7.78-7.78 2.81-2.81c.8-.78.8-2.07 0-2.86zM5.41 20L4 18.59l7.72-7.72 1.47 1.35L5.41 20z\"/>\n",
              "  </svg>\n",
              "      </button>\n",
              "      \n",
              "  <style>\n",
              "    .colab-df-container {\n",
              "      display:flex;\n",
              "      flex-wrap:wrap;\n",
              "      gap: 12px;\n",
              "    }\n",
              "\n",
              "    .colab-df-convert {\n",
              "      background-color: #E8F0FE;\n",
              "      border: none;\n",
              "      border-radius: 50%;\n",
              "      cursor: pointer;\n",
              "      display: none;\n",
              "      fill: #1967D2;\n",
              "      height: 32px;\n",
              "      padding: 0 0 0 0;\n",
              "      width: 32px;\n",
              "    }\n",
              "\n",
              "    .colab-df-convert:hover {\n",
              "      background-color: #E2EBFA;\n",
              "      box-shadow: 0px 1px 2px rgba(60, 64, 67, 0.3), 0px 1px 3px 1px rgba(60, 64, 67, 0.15);\n",
              "      fill: #174EA6;\n",
              "    }\n",
              "\n",
              "    [theme=dark] .colab-df-convert {\n",
              "      background-color: #3B4455;\n",
              "      fill: #D2E3FC;\n",
              "    }\n",
              "\n",
              "    [theme=dark] .colab-df-convert:hover {\n",
              "      background-color: #434B5C;\n",
              "      box-shadow: 0px 1px 3px 1px rgba(0, 0, 0, 0.15);\n",
              "      filter: drop-shadow(0px 1px 2px rgba(0, 0, 0, 0.3));\n",
              "      fill: #FFFFFF;\n",
              "    }\n",
              "  </style>\n",
              "\n",
              "      <script>\n",
              "        const buttonEl =\n",
              "          document.querySelector('#df-45976f62-3c26-444f-a506-bb5aca84e05c button.colab-df-convert');\n",
              "        buttonEl.style.display =\n",
              "          google.colab.kernel.accessAllowed ? 'block' : 'none';\n",
              "\n",
              "        async function convertToInteractive(key) {\n",
              "          const element = document.querySelector('#df-45976f62-3c26-444f-a506-bb5aca84e05c');\n",
              "          const dataTable =\n",
              "            await google.colab.kernel.invokeFunction('convertToInteractive',\n",
              "                                                     [key], {});\n",
              "          if (!dataTable) return;\n",
              "\n",
              "          const docLinkHtml = 'Like what you see? Visit the ' +\n",
              "            '<a target=\"_blank\" href=https://colab.research.google.com/notebooks/data_table.ipynb>data table notebook</a>'\n",
              "            + ' to learn more about interactive tables.';\n",
              "          element.innerHTML = '';\n",
              "          dataTable['output_type'] = 'display_data';\n",
              "          await google.colab.output.renderOutput(dataTable, element);\n",
              "          const docLink = document.createElement('div');\n",
              "          docLink.innerHTML = docLinkHtml;\n",
              "          element.appendChild(docLink);\n",
              "        }\n",
              "      </script>\n",
              "    </div>\n",
              "  </div>\n",
              "  "
            ]
          },
          "metadata": {},
          "execution_count": 52
        }
      ]
    },
    {
      "cell_type": "code",
      "source": [
        "X = df[['YEAR','Rainfall','Area']]\n",
        "y = df[['Perf']]"
      ],
      "metadata": {
        "id": "8nnxXuH2CSz1"
      },
      "execution_count": null,
      "outputs": []
    },
    {
      "cell_type": "code",
      "source": [
        "from sklearn.model_selection import train_test_split\n",
        "train_x, test_x, train_y, test_y = train_test_split(X, y, test_size=0.3, random_state=42)"
      ],
      "metadata": {
        "id": "TA0FMrBOwAvh"
      },
      "execution_count": null,
      "outputs": []
    },
    {
      "cell_type": "code",
      "source": [
        "from sklearn.tree import DecisionTreeClassifier\n",
        "model = DecisionTreeClassifier(criterion=\"entropy\", max_depth=3)\n",
        "model.fit(train_x, train_y)"
      ],
      "metadata": {
        "colab": {
          "base_uri": "https://localhost:8080/",
          "height": 74
        },
        "id": "xp3WwKvOxsRG",
        "outputId": "d4aa643b-4b22-45d3-e694-a99596c48537"
      },
      "execution_count": null,
      "outputs": [
        {
          "output_type": "execute_result",
          "data": {
            "text/plain": [
              "DecisionTreeClassifier(criterion='entropy', max_depth=3)"
            ],
            "text/html": [
              "<style>#sk-container-id-1 {color: black;background-color: white;}#sk-container-id-1 pre{padding: 0;}#sk-container-id-1 div.sk-toggleable {background-color: white;}#sk-container-id-1 label.sk-toggleable__label {cursor: pointer;display: block;width: 100%;margin-bottom: 0;padding: 0.3em;box-sizing: border-box;text-align: center;}#sk-container-id-1 label.sk-toggleable__label-arrow:before {content: \"▸\";float: left;margin-right: 0.25em;color: #696969;}#sk-container-id-1 label.sk-toggleable__label-arrow:hover:before {color: black;}#sk-container-id-1 div.sk-estimator:hover label.sk-toggleable__label-arrow:before {color: black;}#sk-container-id-1 div.sk-toggleable__content {max-height: 0;max-width: 0;overflow: hidden;text-align: left;background-color: #f0f8ff;}#sk-container-id-1 div.sk-toggleable__content pre {margin: 0.2em;color: black;border-radius: 0.25em;background-color: #f0f8ff;}#sk-container-id-1 input.sk-toggleable__control:checked~div.sk-toggleable__content {max-height: 200px;max-width: 100%;overflow: auto;}#sk-container-id-1 input.sk-toggleable__control:checked~label.sk-toggleable__label-arrow:before {content: \"▾\";}#sk-container-id-1 div.sk-estimator input.sk-toggleable__control:checked~label.sk-toggleable__label {background-color: #d4ebff;}#sk-container-id-1 div.sk-label input.sk-toggleable__control:checked~label.sk-toggleable__label {background-color: #d4ebff;}#sk-container-id-1 input.sk-hidden--visually {border: 0;clip: rect(1px 1px 1px 1px);clip: rect(1px, 1px, 1px, 1px);height: 1px;margin: -1px;overflow: hidden;padding: 0;position: absolute;width: 1px;}#sk-container-id-1 div.sk-estimator {font-family: monospace;background-color: #f0f8ff;border: 1px dotted black;border-radius: 0.25em;box-sizing: border-box;margin-bottom: 0.5em;}#sk-container-id-1 div.sk-estimator:hover {background-color: #d4ebff;}#sk-container-id-1 div.sk-parallel-item::after {content: \"\";width: 100%;border-bottom: 1px solid gray;flex-grow: 1;}#sk-container-id-1 div.sk-label:hover label.sk-toggleable__label {background-color: #d4ebff;}#sk-container-id-1 div.sk-serial::before {content: \"\";position: absolute;border-left: 1px solid gray;box-sizing: border-box;top: 0;bottom: 0;left: 50%;z-index: 0;}#sk-container-id-1 div.sk-serial {display: flex;flex-direction: column;align-items: center;background-color: white;padding-right: 0.2em;padding-left: 0.2em;position: relative;}#sk-container-id-1 div.sk-item {position: relative;z-index: 1;}#sk-container-id-1 div.sk-parallel {display: flex;align-items: stretch;justify-content: center;background-color: white;position: relative;}#sk-container-id-1 div.sk-item::before, #sk-container-id-1 div.sk-parallel-item::before {content: \"\";position: absolute;border-left: 1px solid gray;box-sizing: border-box;top: 0;bottom: 0;left: 50%;z-index: -1;}#sk-container-id-1 div.sk-parallel-item {display: flex;flex-direction: column;z-index: 1;position: relative;background-color: white;}#sk-container-id-1 div.sk-parallel-item:first-child::after {align-self: flex-end;width: 50%;}#sk-container-id-1 div.sk-parallel-item:last-child::after {align-self: flex-start;width: 50%;}#sk-container-id-1 div.sk-parallel-item:only-child::after {width: 0;}#sk-container-id-1 div.sk-dashed-wrapped {border: 1px dashed gray;margin: 0 0.4em 0.5em 0.4em;box-sizing: border-box;padding-bottom: 0.4em;background-color: white;}#sk-container-id-1 div.sk-label label {font-family: monospace;font-weight: bold;display: inline-block;line-height: 1.2em;}#sk-container-id-1 div.sk-label-container {text-align: center;}#sk-container-id-1 div.sk-container {/* jupyter's `normalize.less` sets `[hidden] { display: none; }` but bootstrap.min.css set `[hidden] { display: none !important; }` so we also need the `!important` here to be able to override the default hidden behavior on the sphinx rendered scikit-learn.org. See: https://github.com/scikit-learn/scikit-learn/issues/21755 */display: inline-block !important;position: relative;}#sk-container-id-1 div.sk-text-repr-fallback {display: none;}</style><div id=\"sk-container-id-1\" class=\"sk-top-container\"><div class=\"sk-text-repr-fallback\"><pre>DecisionTreeClassifier(criterion=&#x27;entropy&#x27;, max_depth=3)</pre><b>In a Jupyter environment, please rerun this cell to show the HTML representation or trust the notebook. <br />On GitHub, the HTML representation is unable to render, please try loading this page with nbviewer.org.</b></div><div class=\"sk-container\" hidden><div class=\"sk-item\"><div class=\"sk-estimator sk-toggleable\"><input class=\"sk-toggleable__control sk-hidden--visually\" id=\"sk-estimator-id-1\" type=\"checkbox\" checked><label for=\"sk-estimator-id-1\" class=\"sk-toggleable__label sk-toggleable__label-arrow\">DecisionTreeClassifier</label><div class=\"sk-toggleable__content\"><pre>DecisionTreeClassifier(criterion=&#x27;entropy&#x27;, max_depth=3)</pre></div></div></div></div></div>"
            ]
          },
          "metadata": {},
          "execution_count": 55
        }
      ]
    },
    {
      "cell_type": "code",
      "source": [
        "predicted = model.predict(test_x)\n",
        "model.score(test_x, test_y)"
      ],
      "metadata": {
        "colab": {
          "base_uri": "https://localhost:8080/"
        },
        "id": "623JfTI2x3KP",
        "outputId": "8de45e55-273c-44ad-b6e2-8fab725cda7e"
      },
      "execution_count": null,
      "outputs": [
        {
          "output_type": "execute_result",
          "data": {
            "text/plain": [
              "0.9169634185820654"
            ]
          },
          "metadata": {},
          "execution_count": 56
        }
      ]
    },
    {
      "cell_type": "code",
      "source": [
        "from sklearn.metrics import confusion_matrix\n",
        "cm=confusion_matrix(test_y, predicted)\n",
        "cm"
      ],
      "metadata": {
        "colab": {
          "base_uri": "https://localhost:8080/"
        },
        "id": "26uf2yAfyEDu",
        "outputId": "32c8afdf-bbc6-4bd8-ae23-d6be480fd313"
      },
      "execution_count": null,
      "outputs": [
        {
          "output_type": "execute_result",
          "data": {
            "text/plain": [
              "array([[14789,   366],\n",
              "       [ 1173,  2206]])"
            ]
          },
          "metadata": {},
          "execution_count": 57
        }
      ]
    },
    {
      "cell_type": "code",
      "source": [
        "from sklearn.metrics import roc_auc_score\n",
        "probabilities = model.predict_proba(test_x)\n",
        "roc_auc_score(test_y, probabilities[:, 1])"
      ],
      "metadata": {
        "colab": {
          "base_uri": "https://localhost:8080/"
        },
        "id": "Q12xZ8RCyH_p",
        "outputId": "051526b4-62f2-4db4-aaa2-2e4921a56d50"
      },
      "execution_count": null,
      "outputs": [
        {
          "output_type": "execute_result",
          "data": {
            "text/plain": [
              "0.9475774401423037"
            ]
          },
          "metadata": {},
          "execution_count": 58
        }
      ]
    },
    {
      "cell_type": "code",
      "source": [
        "from sklearn.metrics import precision_score\n",
        "\n",
        "train_predictions = model.predict(train_x)\n",
        "precision_score(train_y, train_predictions)"
      ],
      "metadata": {
        "colab": {
          "base_uri": "https://localhost:8080/"
        },
        "id": "WHQLcgq-yMRG",
        "outputId": "2a70042d-76e5-4148-cbda-3b6f23d42877"
      },
      "execution_count": null,
      "outputs": [
        {
          "output_type": "execute_result",
          "data": {
            "text/plain": [
              "0.8690825987593862"
            ]
          },
          "metadata": {},
          "execution_count": 59
        }
      ]
    },
    {
      "cell_type": "code",
      "source": [
        "from sklearn.metrics import recall_score\n",
        "\n",
        "recall_score(train_y, train_predictions)"
      ],
      "metadata": {
        "colab": {
          "base_uri": "https://localhost:8080/"
        },
        "id": "3ZNLyjhZyOcj",
        "outputId": "20396d1b-88f6-4afd-87c3-6e771ee9b584"
      },
      "execution_count": null,
      "outputs": [
        {
          "output_type": "execute_result",
          "data": {
            "text/plain": [
              "0.660218253968254"
            ]
          },
          "metadata": {},
          "execution_count": 60
        }
      ]
    },
    {
      "cell_type": "code",
      "source": [
        "from sklearn.metrics import roc_curve\n",
        "\n",
        "fpr, tpr, _ = roc_curve(test_y, probabilities[:, 1])\n",
        "plt.plot(fpr, tpr)\n",
        "plt.plot([0, 1], [0, 1], color='grey', lw=1, linestyle='--')\n",
        "plt.xlabel('False Positive Rate')\n",
        "plt.ylabel('True Positive Rate')"
      ],
      "metadata": {
        "colab": {
          "base_uri": "https://localhost:8080/",
          "height": 467
        },
        "id": "dp1J3KlsyQta",
        "outputId": "48add910-bc5d-470e-ed8d-db92bef9425b"
      },
      "execution_count": null,
      "outputs": [
        {
          "output_type": "execute_result",
          "data": {
            "text/plain": [
              "Text(0, 0.5, 'True Positive Rate')"
            ]
          },
          "metadata": {},
          "execution_count": 61
        },
        {
          "output_type": "display_data",
          "data": {
            "text/plain": [
              "<Figure size 640x480 with 1 Axes>"
            ],
            "image/png": "[encoded data removed]"
          },
          "metadata": {}
        }
      ]
    },
    {
      "cell_type": "code",
      "source": [
        "from sklearn.ensemble import RandomForestClassifier\n",
        "model = RandomForestClassifier(n_estimators = 50, criterion = 'entropy', random_state=13)\n",
        "model.fit(train_x, train_y)\n",
        "predicted = model.predict(test_x)\n",
        "acc = model.score(test_x, test_y)\n",
        "print(\"accuracy\"+str(acc))\n",
        "\n"
      ],
      "metadata": {
        "colab": {
          "base_uri": "https://localhost:8080/"
        },
        "id": "17PhmiVKeiZK",
        "outputId": "565949d5-29b3-4833-a626-9700054e5caa"
      },
      "execution_count": null,
      "outputs": [
        {
          "output_type": "stream",
          "name": "stderr",
          "text": [
            "<ipython-input-62-bfb2b043be2e>:3: DataConversionWarning: A column-vector y was passed when a 1d array was expected. Please change the shape of y to (n_samples,), for example using ravel().\n",
            "  model.fit(train_x, train_y)\n"
          ]
        },
        {
          "output_type": "stream",
          "name": "stdout",
          "text": [
            "accuracy0.8962986942915723\n"
          ]
        }
      ]
    },
    {
      "cell_type": "code",
      "source": [
        "from sklearn.metrics import confusion_matrix\n",
        "cm=confusion_matrix(test_y, predicted)\n",
        "cm"
      ],
      "metadata": {
        "colab": {
          "base_uri": "https://localhost:8080/"
        },
        "id": "zYu7Whj-fusr",
        "outputId": "e522bbdd-65f9-4a1f-e66a-8bb47c36f4a7"
      },
      "execution_count": null,
      "outputs": [
        {
          "output_type": "execute_result",
          "data": {
            "text/plain": [
              "array([[14231,   924],\n",
              "       [  998,  2381]])"
            ]
          },
          "metadata": {},
          "execution_count": 63
        }
      ]
    },
    {
      "cell_type": "code",
      "source": [
        "from sklearn.metrics import roc_auc_score\n",
        "probabilities = model.predict_proba(test_x)\n",
        "roc_auc_score(test_y, probabilities[:, 1])\n"
      ],
      "metadata": {
        "colab": {
          "base_uri": "https://localhost:8080/"
        },
        "id": "UCQzqZwpfsuu",
        "outputId": "62ea61ac-190c-470c-df3c-c8131c370918"
      },
      "execution_count": null,
      "outputs": [
        {
          "output_type": "execute_result",
          "data": {
            "text/plain": [
              "0.9242480263868993"
            ]
          },
          "metadata": {},
          "execution_count": 64
        }
      ]
    },
    {
      "cell_type": "code",
      "source": [
        "from sklearn.metrics import precision_score\n",
        "\n",
        "train_predictions = model.predict(train_x)\n",
        "precision_score(train_y, train_predictions)"
      ],
      "metadata": {
        "colab": {
          "base_uri": "https://localhost:8080/"
        },
        "id": "yUi2PYxQei-l",
        "outputId": "6713430f-5be0-4a1c-905d-9288044727c7"
      },
      "execution_count": null,
      "outputs": [
        {
          "output_type": "execute_result",
          "data": {
            "text/plain": [
              "0.9947069943289225"
            ]
          },
          "metadata": {},
          "execution_count": 65
        }
      ]
    },
    {
      "cell_type": "code",
      "source": [
        "from sklearn.metrics import recall_score\n",
        "\n",
        "recall_score(train_y, train_predictions)"
      ],
      "metadata": {
        "colab": {
          "base_uri": "https://localhost:8080/"
        },
        "id": "yr8nR5TjfiSJ",
        "outputId": "6f1c489a-32d6-485a-9ed1-16df5a82bdfb"
      },
      "execution_count": null,
      "outputs": [
        {
          "output_type": "execute_result",
          "data": {
            "text/plain": [
              "0.9787946428571429"
            ]
          },
          "metadata": {},
          "execution_count": 66
        }
      ]
    },
    {
      "cell_type": "code",
      "source": [
        "from sklearn.metrics import roc_curve\n",
        "\n",
        "fpr, tpr, _ = roc_curve(test_y, probabilities[:, 1])\n",
        "plt.plot(fpr, tpr)\n",
        "plt.plot([0, 1], [0, 1], color='grey', lw=1, linestyle='--')\n",
        "plt.xlabel('False Positive Rate')\n",
        "plt.ylabel('True Positive Rate')"
      ],
      "metadata": {
        "colab": {
          "base_uri": "https://localhost:8080/",
          "height": 467
        },
        "id": "IcnHyJJgfk3p",
        "outputId": "14078aa2-a922-4864-a562-1361bfd211f9"
      },
      "execution_count": null,
      "outputs": [
        {
          "output_type": "execute_result",
          "data": {
            "text/plain": [
              "Text(0, 0.5, 'True Positive Rate')"
            ]
          },
          "metadata": {},
          "execution_count": 67
        },
        {
          "output_type": "display_data",
          "data": {
            "text/plain": [
              "<Figure size 640x480 with 1 Axes>"
            ],
            "image/png": "[encoded data removed]"
          },
          "metadata": {}
        }
      ]
    },
    {
      "cell_type": "code",
      "source": [
        "from sklearn.ensemble import GradientBoostingClassifier\n",
        "model = GradientBoostingClassifier(random_state=13)\n",
        "model.fit(train_x, train_y)\n",
        "predicted = model.predict(test_x)\n",
        "acc = model.score(test_x, test_y)\n",
        "print(\"accuracy\"+str(acc))\n"
      ],
      "metadata": {
        "colab": {
          "base_uri": "https://localhost:8080/"
        },
        "id": "cBTA9iX8fz2g",
        "outputId": "7cfa48cc-e5f2-44ad-e0c9-2072edbd0f4f"
      },
      "execution_count": null,
      "outputs": [
        {
          "output_type": "stream",
          "name": "stderr",
          "text": [
            "/usr/local/lib/python3.10/dist-packages/sklearn/ensemble/_gb.py:437: DataConversionWarning: A column-vector y was passed when a 1d array was expected. Please change the shape of y to (n_samples, ), for example using ravel().\n",
            "  y = column_or_1d(y, warn=True)\n"
          ]
        },
        {
          "output_type": "stream",
          "name": "stdout",
          "text": [
            "accuracy0.9199309377360526\n"
          ]
        }
      ]
    },
    {
      "cell_type": "code",
      "source": [
        "from sklearn.metrics import confusion_matrix\n",
        "cm=confusion_matrix(test_y, predicted)\n",
        "cm"
      ],
      "metadata": {
        "colab": {
          "base_uri": "https://localhost:8080/"
        },
        "id": "5HYsr7odf8OS",
        "outputId": "9181ea39-4512-4d09-ec27-3424d0817ad6"
      },
      "execution_count": null,
      "outputs": [
        {
          "output_type": "execute_result",
          "data": {
            "text/plain": [
              "array([[14639,   516],\n",
              "       [  968,  2411]])"
            ]
          },
          "metadata": {},
          "execution_count": 69
        }
      ]
    },
    {
      "cell_type": "code",
      "source": [
        "from sklearn.metrics import roc_auc_score\n",
        "probabilities = model.predict_proba(test_x)\n",
        "roc_auc_score(test_y, probabilities[:, 1])"
      ],
      "metadata": {
        "colab": {
          "base_uri": "https://localhost:8080/"
        },
        "id": "n_9PgZr-gAFS",
        "outputId": "0613832b-7cba-4fe5-d0c1-03f8e7336712"
      },
      "execution_count": null,
      "outputs": [
        {
          "output_type": "execute_result",
          "data": {
            "text/plain": [
              "0.9574578228777135"
            ]
          },
          "metadata": {},
          "execution_count": 70
        }
      ]
    },
    {
      "cell_type": "code",
      "source": [
        "from sklearn.metrics import precision_score\n",
        "\n",
        "train_predictions = model.predict(train_x)\n",
        "precision_score(train_y, train_predictions)"
      ],
      "metadata": {
        "colab": {
          "base_uri": "https://localhost:8080/"
        },
        "id": "qzIoXJV6gChZ",
        "outputId": "ba1a86c0-3da3-4805-a7f3-d30946c2e01e"
      },
      "execution_count": null,
      "outputs": [
        {
          "output_type": "execute_result",
          "data": {
            "text/plain": [
              "0.8401562273976566"
            ]
          },
          "metadata": {},
          "execution_count": 71
        }
      ]
    },
    {
      "cell_type": "code",
      "source": [
        "from sklearn.metrics import recall_score\n",
        "\n",
        "recall_score(train_y, train_predictions)"
      ],
      "metadata": {
        "colab": {
          "base_uri": "https://localhost:8080/"
        },
        "id": "4nrkqJAFgHF6",
        "outputId": "644ddc9b-7405-454f-a71b-92a6aa7d3413"
      },
      "execution_count": null,
      "outputs": [
        {
          "output_type": "execute_result",
          "data": {
            "text/plain": [
              "0.7202380952380952"
            ]
          },
          "metadata": {},
          "execution_count": 72
        }
      ]
    },
    {
      "cell_type": "code",
      "source": [
        "from sklearn.metrics import roc_curve\n",
        "\n",
        "fpr, tpr, _ = roc_curve(test_y, probabilities[:, 1])\n",
        "plt.plot(fpr, tpr)\n",
        "plt.plot([0, 1], [0, 1], color='grey', lw=1, linestyle='--')\n",
        "plt.xlabel('False Positive Rate')\n",
        "plt.ylabel('True Positive Rate')"
      ],
      "metadata": {
        "colab": {
          "base_uri": "https://localhost:8080/",
          "height": 467
        },
        "id": "j6eLyRLPgJEt",
        "outputId": "fca554ed-b058-4fb3-d04b-36c4c81340f7"
      },
      "execution_count": null,
      "outputs": [
        {
          "output_type": "execute_result",
          "data": {
            "text/plain": [
              "Text(0, 0.5, 'True Positive Rate')"
            ]
          },
          "metadata": {},
          "execution_count": 73
        },
        {
          "output_type": "display_data",
          "data": {
            "text/plain": [
              "<Figure size 640x480 with 1 Axes>"
            ],
            "image/png": "[encoded data removed]"
          },
          "metadata": {}
        }
      ]
    },
    {
      "cell_type": "code",
      "source": [],
      "metadata": {
        "id": "WnryMVcYgZQt"
      },
      "execution_count": null,
      "outputs": []
    }
  ]
}